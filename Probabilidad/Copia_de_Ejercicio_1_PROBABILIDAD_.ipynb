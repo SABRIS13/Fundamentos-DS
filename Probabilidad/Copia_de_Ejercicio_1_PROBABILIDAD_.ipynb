{
  "cells": [
    {
      "cell_type": "markdown",
      "metadata": {
        "id": "IJwsNqB76MBy"
      },
      "source": [
        "# Ejercicio 1: IMPORTAR LIBRERÍAS Y DATASETS"
      ]
    },
    {
      "cell_type": "code",
      "execution_count": 181,
      "metadata": {
        "id": "ETf0YAwI6NDN"
      },
      "outputs": [],
      "source": [
        "import pandas as pd\n",
        "import numpy as np\n",
        "import seaborn as sns\n",
        "import matplotlib.pyplot as plt\n"
      ]
    },
    {
      "cell_type": "code",
      "execution_count": 182,
      "metadata": {
        "id": "ZhDnHNiN6R7A"
      },
      "outputs": [],
      "source": [
        "# Tienes que incluir el enlace completo al archivo csv que contiene el conjunto de datos\n",
        "creditcard_df_inicio = pd.read_csv('UCI_Credit_Card.csv')"
      ]
    },
    {
      "cell_type": "code",
      "execution_count": 183,
      "metadata": {
        "colab": {
          "base_uri": "https://localhost:8080/"
        },
        "id": "dJA0BmpP0R4H",
        "outputId": "e918ca20-5ca7-4390-9e87-a94d247db85c"
      },
      "outputs": [
        {
          "data": {
            "text/plain": [
              "30000"
            ]
          },
          "execution_count": 183,
          "metadata": {},
          "output_type": "execute_result"
        }
      ],
      "source": [
        "total=len(creditcard_df_inicio)\n",
        "total"
      ]
    },
    {
      "cell_type": "code",
      "execution_count": 184,
      "metadata": {
        "id": "CBN8JVVZ0R4I"
      },
      "outputs": [],
      "source": [
        "# Seleccionar el 50% de la data.\n",
        "creditcard_df=creditcard_df_inicio.sample(frac=0.5, replace=False, random_state=1)"
      ]
    },
    {
      "cell_type": "markdown",
      "metadata": {
        "id": "rzUiG-sgCmDe"
      },
      "source": [
        "ID: ID of each client\n",
        "\n",
        "LIMIT_BAL: Amount of given credit in NT dollars (includes individual and family/supplementary credit\n",
        "\n",
        "SEX: Gender (1=male, 2=female)\n",
        "\n",
        "EDUCATION: (1=graduate school, 2=university, 3=high school, 4=others, 5=unknown, 6=unknown)\n",
        "\n",
        "MARRIAGE: Marital status (1=married, 2=single, 3=others)\n",
        "\n",
        "AGE: Age in years\n",
        "\n",
        "PAY_0: Repayment status in September, 2005 (-1=pay duly, 1=payment \n",
        "delay for one month, 2=payment delay for two months, … 8=payment delay for eight months, 9=payment delay for nine months and above)\n",
        "\n",
        "PAY_2: Repayment status in August, 2005 (scale same as above)\n",
        "\n",
        "PAY_3: Repayment status in July, 2005 (scale same as above)\n",
        "\n",
        "PAY_4: Repayment status in June, 2005 (scale same as above)\n",
        "\n",
        "PAY_5: Repayment status in May, 2005 (scale same as above)\n",
        "\n",
        "PAY_6: Repayment status in April, 2005 (scale same as above)\n",
        "\n",
        "BILL_AMT1: Amount of bill statement in September, 2005 (NT dollar)\n",
        "\n",
        "BILL_AMT2: Amount of bill statement in August, 2005 (NT dollar)\n",
        "\n",
        "BILL_AMT3: Amount of bill statement in July, 2005 (NT dollar)\n",
        "\n",
        "BILL_AMT4: Amount of bill statement in June, 2005 (NT dollar)\n",
        "\n",
        "BILL_AMT5: Amount of bill statement in May, 2005 (NT dollar)\n",
        "\n",
        "BILL_AMT6: Amount of bill statement in April, 2005 (NT dollar)\n",
        "\n",
        "PAY_AMT1: Amount of previous payment in September, 2005 (NT dollar)\n",
        "\n",
        "PAY_AMT2: Amount of previous payment in August, 2005 (NT dollar)\n",
        "\n",
        "PAY_AMT3: Amount of previous payment in July, 2005 (NT dollar)\n",
        "\n",
        "PAY_AMT4: Amount of previous payment in June, 2005 (NT dollar)\n",
        "\n",
        "PAY_AMT5: Amount of previous payment in May, 2005 (NT dollar)\n",
        "\n",
        "PAY_AMT6: Amount of previous payment in April, 2005 (NT dollar)\n",
        "\n",
        "default.payment.next.month: Default payment (1=yes, 0=no)"
      ]
    },
    {
      "cell_type": "code",
      "execution_count": 185,
      "metadata": {
        "id": "TQf9G6QF6pVV"
      },
      "outputs": [],
      "source": [
        "#len(creditcard_df)"
      ]
    },
    {
      "cell_type": "code",
      "execution_count": 186,
      "metadata": {
        "id": "dRg7nIdr0R4J"
      },
      "outputs": [],
      "source": [
        "#creditcard_df=creditcard_df_inicio"
      ]
    },
    {
      "cell_type": "code",
      "execution_count": 187,
      "metadata": {
        "id": "UtamBsKS8fNR"
      },
      "outputs": [],
      "source": [
        "#creditcard_df.info()\n",
        "# 24 características en total, cada una con describiendo un total de 30000 puntos de datos"
      ]
    },
    {
      "cell_type": "code",
      "execution_count": 188,
      "metadata": {
        "id": "ENzZ7eo28lu2"
      },
      "outputs": [],
      "source": [
        "#creditcard_df.describe()\n",
        "# la media de LIMIT_BAL = 1500, min = 1 y max = 30000\n",
        "# la media de EDAD = 25 años, mínimo = 21 y máximo = 79\n",
        "# El promedio de PAY_AMT es de alrededor de 5000"
      ]
    },
    {
      "cell_type": "markdown",
      "metadata": {
        "id": "rhxz_5cAB-Jk"
      },
      "source": [
        "# VISUALIZAR EL DATASET"
      ]
    },
    {
      "cell_type": "code",
      "execution_count": 189,
      "metadata": {
        "colab": {
          "base_uri": "https://localhost:8080/",
          "height": 299
        },
        "id": "93kPyxD0Bo_b",
        "outputId": "de668da8-ff97-42b2-aecc-45ceadf2a4fe"
      },
      "outputs": [
        {
          "data": {
            "text/html": [
              "<div>\n",
              "<style scoped>\n",
              "    .dataframe tbody tr th:only-of-type {\n",
              "        vertical-align: middle;\n",
              "    }\n",
              "\n",
              "    .dataframe tbody tr th {\n",
              "        vertical-align: top;\n",
              "    }\n",
              "\n",
              "    .dataframe thead th {\n",
              "        text-align: right;\n",
              "    }\n",
              "</style>\n",
              "<table border=\"1\" class=\"dataframe\">\n",
              "  <thead>\n",
              "    <tr style=\"text-align: right;\">\n",
              "      <th></th>\n",
              "      <th>ID</th>\n",
              "      <th>LIMIT_BAL</th>\n",
              "      <th>SEX</th>\n",
              "      <th>EDUCATION</th>\n",
              "      <th>MARRIAGE</th>\n",
              "      <th>AGE</th>\n",
              "      <th>PAY_0</th>\n",
              "      <th>PAY_2</th>\n",
              "      <th>PAY_3</th>\n",
              "      <th>PAY_4</th>\n",
              "      <th>...</th>\n",
              "      <th>BILL_AMT4</th>\n",
              "      <th>BILL_AMT5</th>\n",
              "      <th>BILL_AMT6</th>\n",
              "      <th>PAY_AMT1</th>\n",
              "      <th>PAY_AMT2</th>\n",
              "      <th>PAY_AMT3</th>\n",
              "      <th>PAY_AMT4</th>\n",
              "      <th>PAY_AMT5</th>\n",
              "      <th>PAY_AMT6</th>\n",
              "      <th>default.payment.next.month</th>\n",
              "    </tr>\n",
              "  </thead>\n",
              "  <tbody>\n",
              "    <tr>\n",
              "      <th>10747</th>\n",
              "      <td>10748</td>\n",
              "      <td>310000.0</td>\n",
              "      <td>1</td>\n",
              "      <td>3</td>\n",
              "      <td>1</td>\n",
              "      <td>32</td>\n",
              "      <td>0</td>\n",
              "      <td>0</td>\n",
              "      <td>0</td>\n",
              "      <td>0</td>\n",
              "      <td>...</td>\n",
              "      <td>84373.0</td>\n",
              "      <td>57779.0</td>\n",
              "      <td>14163.0</td>\n",
              "      <td>8295.0</td>\n",
              "      <td>6000.0</td>\n",
              "      <td>4000.0</td>\n",
              "      <td>3000.0</td>\n",
              "      <td>1000.0</td>\n",
              "      <td>2000.0</td>\n",
              "      <td>0</td>\n",
              "    </tr>\n",
              "    <tr>\n",
              "      <th>12573</th>\n",
              "      <td>12574</td>\n",
              "      <td>10000.0</td>\n",
              "      <td>2</td>\n",
              "      <td>3</td>\n",
              "      <td>1</td>\n",
              "      <td>49</td>\n",
              "      <td>-1</td>\n",
              "      <td>-1</td>\n",
              "      <td>-2</td>\n",
              "      <td>-1</td>\n",
              "      <td>...</td>\n",
              "      <td>1690.0</td>\n",
              "      <td>1138.0</td>\n",
              "      <td>930.0</td>\n",
              "      <td>0.0</td>\n",
              "      <td>0.0</td>\n",
              "      <td>2828.0</td>\n",
              "      <td>0.0</td>\n",
              "      <td>182.0</td>\n",
              "      <td>0.0</td>\n",
              "      <td>1</td>\n",
              "    </tr>\n",
              "    <tr>\n",
              "      <th>29676</th>\n",
              "      <td>29677</td>\n",
              "      <td>50000.0</td>\n",
              "      <td>1</td>\n",
              "      <td>2</td>\n",
              "      <td>1</td>\n",
              "      <td>28</td>\n",
              "      <td>-1</td>\n",
              "      <td>-1</td>\n",
              "      <td>-1</td>\n",
              "      <td>0</td>\n",
              "      <td>...</td>\n",
              "      <td>45975.0</td>\n",
              "      <td>1300.0</td>\n",
              "      <td>43987.0</td>\n",
              "      <td>0.0</td>\n",
              "      <td>46257.0</td>\n",
              "      <td>2200.0</td>\n",
              "      <td>1300.0</td>\n",
              "      <td>43987.0</td>\n",
              "      <td>1386.0</td>\n",
              "      <td>0</td>\n",
              "    </tr>\n",
              "    <tr>\n",
              "      <th>8856</th>\n",
              "      <td>8857</td>\n",
              "      <td>80000.0</td>\n",
              "      <td>2</td>\n",
              "      <td>3</td>\n",
              "      <td>1</td>\n",
              "      <td>52</td>\n",
              "      <td>2</td>\n",
              "      <td>2</td>\n",
              "      <td>3</td>\n",
              "      <td>3</td>\n",
              "      <td>...</td>\n",
              "      <td>40748.0</td>\n",
              "      <td>39816.0</td>\n",
              "      <td>40607.0</td>\n",
              "      <td>3700.0</td>\n",
              "      <td>1600.0</td>\n",
              "      <td>1600.0</td>\n",
              "      <td>0.0</td>\n",
              "      <td>1600.0</td>\n",
              "      <td>1600.0</td>\n",
              "      <td>1</td>\n",
              "    </tr>\n",
              "    <tr>\n",
              "      <th>21098</th>\n",
              "      <td>21099</td>\n",
              "      <td>270000.0</td>\n",
              "      <td>1</td>\n",
              "      <td>1</td>\n",
              "      <td>2</td>\n",
              "      <td>34</td>\n",
              "      <td>1</td>\n",
              "      <td>2</td>\n",
              "      <td>0</td>\n",
              "      <td>0</td>\n",
              "      <td>...</td>\n",
              "      <td>22448.0</td>\n",
              "      <td>15490.0</td>\n",
              "      <td>17343.0</td>\n",
              "      <td>0.0</td>\n",
              "      <td>4000.0</td>\n",
              "      <td>2000.0</td>\n",
              "      <td>0.0</td>\n",
              "      <td>2000.0</td>\n",
              "      <td>2000.0</td>\n",
              "      <td>0</td>\n",
              "    </tr>\n",
              "  </tbody>\n",
              "</table>\n",
              "<p>5 rows × 25 columns</p>\n",
              "</div>"
            ],
            "text/plain": [
              "          ID  LIMIT_BAL  SEX  EDUCATION  MARRIAGE  AGE  PAY_0  PAY_2  PAY_3  \\\n",
              "10747  10748   310000.0    1          3         1   32      0      0      0   \n",
              "12573  12574    10000.0    2          3         1   49     -1     -1     -2   \n",
              "29676  29677    50000.0    1          2         1   28     -1     -1     -1   \n",
              "8856    8857    80000.0    2          3         1   52      2      2      3   \n",
              "21098  21099   270000.0    1          1         2   34      1      2      0   \n",
              "\n",
              "       PAY_4  ...  BILL_AMT4  BILL_AMT5  BILL_AMT6  PAY_AMT1  PAY_AMT2  \\\n",
              "10747      0  ...    84373.0    57779.0    14163.0    8295.0    6000.0   \n",
              "12573     -1  ...     1690.0     1138.0      930.0       0.0       0.0   \n",
              "29676      0  ...    45975.0     1300.0    43987.0       0.0   46257.0   \n",
              "8856       3  ...    40748.0    39816.0    40607.0    3700.0    1600.0   \n",
              "21098      0  ...    22448.0    15490.0    17343.0       0.0    4000.0   \n",
              "\n",
              "       PAY_AMT3  PAY_AMT4  PAY_AMT5  PAY_AMT6  default.payment.next.month  \n",
              "10747    4000.0    3000.0    1000.0    2000.0                           0  \n",
              "12573    2828.0       0.0     182.0       0.0                           1  \n",
              "29676    2200.0    1300.0   43987.0    1386.0                           0  \n",
              "8856     1600.0       0.0    1600.0    1600.0                           1  \n",
              "21098    2000.0       0.0    2000.0    2000.0                           0  \n",
              "\n",
              "[5 rows x 25 columns]"
            ]
          },
          "execution_count": 189,
          "metadata": {},
          "output_type": "execute_result"
        }
      ],
      "source": [
        "creditcard_df.head()"
      ]
    },
    {
      "cell_type": "code",
      "execution_count": 190,
      "metadata": {
        "colab": {
          "base_uri": "https://localhost:8080/",
          "height": 416
        },
        "id": "uk1G6de2B-rs",
        "outputId": "8d40787e-f4c5-4176-fc45-1fe8e7b6a699"
      },
      "outputs": [
        {
          "data": {
            "text/plain": [
              "<AxesSubplot:>"
            ]
          },
          "execution_count": 190,
          "metadata": {},
          "output_type": "execute_result"
        },
        {
          "data": {
            "image/png": "[encoded data removed]",
            "text/plain": [
              "<Figure size 432x288 with 1 Axes>"
            ]
          },
          "metadata": {
            "needs_background": "light"
          },
          "output_type": "display_data"
        }
      ],
      "source": [
        "# Veamos si nos faltan datos, ¡afortunadamente NO!\n",
        "sns.heatmap(creditcard_df.isnull(), yticklabels = False, cbar = False, cmap=\"Blues\")"
      ]
    },
    {
      "cell_type": "code",
      "execution_count": 191,
      "metadata": {
        "colab": {
          "base_uri": "https://localhost:8080/",
          "height": 835
        },
        "id": "cmSjFMYyCC_E",
        "outputId": "f86cb668-ec6b-46de-bd6a-8e53c3b6b647"
      },
      "outputs": [
        {
          "data": {
            "image/png": "[encoded data removed]",
            "text/plain": [
              "<Figure size 1440x1440 with 25 Axes>"
            ]
          },
          "metadata": {
            "needs_background": "light"
          },
          "output_type": "display_data"
        }
      ],
      "source": [
        "histo = creditcard_df.hist(bins = 30, figsize = (20,20), color = 'teal')"
      ]
    },
    {
      "cell_type": "code",
      "execution_count": 192,
      "metadata": {
        "colab": {
          "base_uri": "https://localhost:8080/",
          "height": 488
        },
        "id": "kEydThfXDTiD",
        "outputId": "b3abb894-b391-4cf0-c79f-5e4d49387883"
      },
      "outputs": [
        {
          "data": {
            "text/html": [
              "<div>\n",
              "<style scoped>\n",
              "    .dataframe tbody tr th:only-of-type {\n",
              "        vertical-align: middle;\n",
              "    }\n",
              "\n",
              "    .dataframe tbody tr th {\n",
              "        vertical-align: top;\n",
              "    }\n",
              "\n",
              "    .dataframe thead th {\n",
              "        text-align: right;\n",
              "    }\n",
              "</style>\n",
              "<table border=\"1\" class=\"dataframe\">\n",
              "  <thead>\n",
              "    <tr style=\"text-align: right;\">\n",
              "      <th></th>\n",
              "      <th>ID</th>\n",
              "      <th>LIMIT_BAL</th>\n",
              "      <th>SEX</th>\n",
              "      <th>EDUCATION</th>\n",
              "      <th>MARRIAGE</th>\n",
              "      <th>AGE</th>\n",
              "      <th>PAY_0</th>\n",
              "      <th>PAY_2</th>\n",
              "      <th>PAY_3</th>\n",
              "      <th>PAY_4</th>\n",
              "      <th>...</th>\n",
              "      <th>BILL_AMT4</th>\n",
              "      <th>BILL_AMT5</th>\n",
              "      <th>BILL_AMT6</th>\n",
              "      <th>PAY_AMT1</th>\n",
              "      <th>PAY_AMT2</th>\n",
              "      <th>PAY_AMT3</th>\n",
              "      <th>PAY_AMT4</th>\n",
              "      <th>PAY_AMT5</th>\n",
              "      <th>PAY_AMT6</th>\n",
              "      <th>default.payment.next.month</th>\n",
              "    </tr>\n",
              "  </thead>\n",
              "  <tbody>\n",
              "    <tr>\n",
              "      <th>10747</th>\n",
              "      <td>10748</td>\n",
              "      <td>310000.0</td>\n",
              "      <td>1</td>\n",
              "      <td>3</td>\n",
              "      <td>1</td>\n",
              "      <td>32</td>\n",
              "      <td>0</td>\n",
              "      <td>0</td>\n",
              "      <td>0</td>\n",
              "      <td>0</td>\n",
              "      <td>...</td>\n",
              "      <td>84373.0</td>\n",
              "      <td>57779.0</td>\n",
              "      <td>14163.0</td>\n",
              "      <td>8295.0</td>\n",
              "      <td>6000.0</td>\n",
              "      <td>4000.0</td>\n",
              "      <td>3000.0</td>\n",
              "      <td>1000.0</td>\n",
              "      <td>2000.0</td>\n",
              "      <td>0</td>\n",
              "    </tr>\n",
              "    <tr>\n",
              "      <th>12573</th>\n",
              "      <td>12574</td>\n",
              "      <td>10000.0</td>\n",
              "      <td>2</td>\n",
              "      <td>3</td>\n",
              "      <td>1</td>\n",
              "      <td>49</td>\n",
              "      <td>-1</td>\n",
              "      <td>-1</td>\n",
              "      <td>-2</td>\n",
              "      <td>-1</td>\n",
              "      <td>...</td>\n",
              "      <td>1690.0</td>\n",
              "      <td>1138.0</td>\n",
              "      <td>930.0</td>\n",
              "      <td>0.0</td>\n",
              "      <td>0.0</td>\n",
              "      <td>2828.0</td>\n",
              "      <td>0.0</td>\n",
              "      <td>182.0</td>\n",
              "      <td>0.0</td>\n",
              "      <td>1</td>\n",
              "    </tr>\n",
              "    <tr>\n",
              "      <th>29676</th>\n",
              "      <td>29677</td>\n",
              "      <td>50000.0</td>\n",
              "      <td>1</td>\n",
              "      <td>2</td>\n",
              "      <td>1</td>\n",
              "      <td>28</td>\n",
              "      <td>-1</td>\n",
              "      <td>-1</td>\n",
              "      <td>-1</td>\n",
              "      <td>0</td>\n",
              "      <td>...</td>\n",
              "      <td>45975.0</td>\n",
              "      <td>1300.0</td>\n",
              "      <td>43987.0</td>\n",
              "      <td>0.0</td>\n",
              "      <td>46257.0</td>\n",
              "      <td>2200.0</td>\n",
              "      <td>1300.0</td>\n",
              "      <td>43987.0</td>\n",
              "      <td>1386.0</td>\n",
              "      <td>0</td>\n",
              "    </tr>\n",
              "    <tr>\n",
              "      <th>8856</th>\n",
              "      <td>8857</td>\n",
              "      <td>80000.0</td>\n",
              "      <td>2</td>\n",
              "      <td>3</td>\n",
              "      <td>1</td>\n",
              "      <td>52</td>\n",
              "      <td>2</td>\n",
              "      <td>2</td>\n",
              "      <td>3</td>\n",
              "      <td>3</td>\n",
              "      <td>...</td>\n",
              "      <td>40748.0</td>\n",
              "      <td>39816.0</td>\n",
              "      <td>40607.0</td>\n",
              "      <td>3700.0</td>\n",
              "      <td>1600.0</td>\n",
              "      <td>1600.0</td>\n",
              "      <td>0.0</td>\n",
              "      <td>1600.0</td>\n",
              "      <td>1600.0</td>\n",
              "      <td>1</td>\n",
              "    </tr>\n",
              "    <tr>\n",
              "      <th>21098</th>\n",
              "      <td>21099</td>\n",
              "      <td>270000.0</td>\n",
              "      <td>1</td>\n",
              "      <td>1</td>\n",
              "      <td>2</td>\n",
              "      <td>34</td>\n",
              "      <td>1</td>\n",
              "      <td>2</td>\n",
              "      <td>0</td>\n",
              "      <td>0</td>\n",
              "      <td>...</td>\n",
              "      <td>22448.0</td>\n",
              "      <td>15490.0</td>\n",
              "      <td>17343.0</td>\n",
              "      <td>0.0</td>\n",
              "      <td>4000.0</td>\n",
              "      <td>2000.0</td>\n",
              "      <td>0.0</td>\n",
              "      <td>2000.0</td>\n",
              "      <td>2000.0</td>\n",
              "      <td>0</td>\n",
              "    </tr>\n",
              "    <tr>\n",
              "      <th>...</th>\n",
              "      <td>...</td>\n",
              "      <td>...</td>\n",
              "      <td>...</td>\n",
              "      <td>...</td>\n",
              "      <td>...</td>\n",
              "      <td>...</td>\n",
              "      <td>...</td>\n",
              "      <td>...</td>\n",
              "      <td>...</td>\n",
              "      <td>...</td>\n",
              "      <td>...</td>\n",
              "      <td>...</td>\n",
              "      <td>...</td>\n",
              "      <td>...</td>\n",
              "      <td>...</td>\n",
              "      <td>...</td>\n",
              "      <td>...</td>\n",
              "      <td>...</td>\n",
              "      <td>...</td>\n",
              "      <td>...</td>\n",
              "      <td>...</td>\n",
              "    </tr>\n",
              "    <tr>\n",
              "      <th>1942</th>\n",
              "      <td>1943</td>\n",
              "      <td>120000.0</td>\n",
              "      <td>1</td>\n",
              "      <td>1</td>\n",
              "      <td>1</td>\n",
              "      <td>45</td>\n",
              "      <td>0</td>\n",
              "      <td>0</td>\n",
              "      <td>0</td>\n",
              "      <td>0</td>\n",
              "      <td>...</td>\n",
              "      <td>23376.0</td>\n",
              "      <td>23866.0</td>\n",
              "      <td>24339.0</td>\n",
              "      <td>1369.0</td>\n",
              "      <td>1382.0</td>\n",
              "      <td>836.0</td>\n",
              "      <td>866.0</td>\n",
              "      <td>870.0</td>\n",
              "      <td>902.0</td>\n",
              "      <td>0</td>\n",
              "    </tr>\n",
              "    <tr>\n",
              "      <th>18093</th>\n",
              "      <td>18094</td>\n",
              "      <td>240000.0</td>\n",
              "      <td>1</td>\n",
              "      <td>3</td>\n",
              "      <td>2</td>\n",
              "      <td>40</td>\n",
              "      <td>0</td>\n",
              "      <td>0</td>\n",
              "      <td>0</td>\n",
              "      <td>0</td>\n",
              "      <td>...</td>\n",
              "      <td>226872.0</td>\n",
              "      <td>233115.0</td>\n",
              "      <td>239229.0</td>\n",
              "      <td>8491.0</td>\n",
              "      <td>9600.0</td>\n",
              "      <td>8896.0</td>\n",
              "      <td>10690.0</td>\n",
              "      <td>223765.0</td>\n",
              "      <td>9395.0</td>\n",
              "      <td>0</td>\n",
              "    </tr>\n",
              "    <tr>\n",
              "      <th>8893</th>\n",
              "      <td>8894</td>\n",
              "      <td>400000.0</td>\n",
              "      <td>2</td>\n",
              "      <td>1</td>\n",
              "      <td>1</td>\n",
              "      <td>32</td>\n",
              "      <td>1</td>\n",
              "      <td>-1</td>\n",
              "      <td>-1</td>\n",
              "      <td>-1</td>\n",
              "      <td>...</td>\n",
              "      <td>3828.0</td>\n",
              "      <td>4893.0</td>\n",
              "      <td>4687.0</td>\n",
              "      <td>6656.0</td>\n",
              "      <td>3328.0</td>\n",
              "      <td>3828.0</td>\n",
              "      <td>4893.0</td>\n",
              "      <td>4687.0</td>\n",
              "      <td>3008.0</td>\n",
              "      <td>0</td>\n",
              "    </tr>\n",
              "    <tr>\n",
              "      <th>8701</th>\n",
              "      <td>8702</td>\n",
              "      <td>340000.0</td>\n",
              "      <td>2</td>\n",
              "      <td>3</td>\n",
              "      <td>2</td>\n",
              "      <td>46</td>\n",
              "      <td>1</td>\n",
              "      <td>-1</td>\n",
              "      <td>-1</td>\n",
              "      <td>0</td>\n",
              "      <td>...</td>\n",
              "      <td>35028.0</td>\n",
              "      <td>8500.0</td>\n",
              "      <td>1612.0</td>\n",
              "      <td>1321.0</td>\n",
              "      <td>35028.0</td>\n",
              "      <td>0.0</td>\n",
              "      <td>0.0</td>\n",
              "      <td>1612.0</td>\n",
              "      <td>0.0</td>\n",
              "      <td>1</td>\n",
              "    </tr>\n",
              "    <tr>\n",
              "      <th>16450</th>\n",
              "      <td>16451</td>\n",
              "      <td>30000.0</td>\n",
              "      <td>2</td>\n",
              "      <td>2</td>\n",
              "      <td>1</td>\n",
              "      <td>47</td>\n",
              "      <td>0</td>\n",
              "      <td>0</td>\n",
              "      <td>0</td>\n",
              "      <td>0</td>\n",
              "      <td>...</td>\n",
              "      <td>29841.0</td>\n",
              "      <td>20075.0</td>\n",
              "      <td>12250.0</td>\n",
              "      <td>3778.0</td>\n",
              "      <td>1900.0</td>\n",
              "      <td>1019.0</td>\n",
              "      <td>26.0</td>\n",
              "      <td>1131.0</td>\n",
              "      <td>1209.0</td>\n",
              "      <td>0</td>\n",
              "    </tr>\n",
              "  </tbody>\n",
              "</table>\n",
              "<p>15000 rows × 25 columns</p>\n",
              "</div>"
            ],
            "text/plain": [
              "          ID  LIMIT_BAL  SEX  EDUCATION  MARRIAGE  AGE  PAY_0  PAY_2  PAY_3  \\\n",
              "10747  10748   310000.0    1          3         1   32      0      0      0   \n",
              "12573  12574    10000.0    2          3         1   49     -1     -1     -2   \n",
              "29676  29677    50000.0    1          2         1   28     -1     -1     -1   \n",
              "8856    8857    80000.0    2          3         1   52      2      2      3   \n",
              "21098  21099   270000.0    1          1         2   34      1      2      0   \n",
              "...      ...        ...  ...        ...       ...  ...    ...    ...    ...   \n",
              "1942    1943   120000.0    1          1         1   45      0      0      0   \n",
              "18093  18094   240000.0    1          3         2   40      0      0      0   \n",
              "8893    8894   400000.0    2          1         1   32      1     -1     -1   \n",
              "8701    8702   340000.0    2          3         2   46      1     -1     -1   \n",
              "16450  16451    30000.0    2          2         1   47      0      0      0   \n",
              "\n",
              "       PAY_4  ...  BILL_AMT4  BILL_AMT5  BILL_AMT6  PAY_AMT1  PAY_AMT2  \\\n",
              "10747      0  ...    84373.0    57779.0    14163.0    8295.0    6000.0   \n",
              "12573     -1  ...     1690.0     1138.0      930.0       0.0       0.0   \n",
              "29676      0  ...    45975.0     1300.0    43987.0       0.0   46257.0   \n",
              "8856       3  ...    40748.0    39816.0    40607.0    3700.0    1600.0   \n",
              "21098      0  ...    22448.0    15490.0    17343.0       0.0    4000.0   \n",
              "...      ...  ...        ...        ...        ...       ...       ...   \n",
              "1942       0  ...    23376.0    23866.0    24339.0    1369.0    1382.0   \n",
              "18093      0  ...   226872.0   233115.0   239229.0    8491.0    9600.0   \n",
              "8893      -1  ...     3828.0     4893.0     4687.0    6656.0    3328.0   \n",
              "8701       0  ...    35028.0     8500.0     1612.0    1321.0   35028.0   \n",
              "16450      0  ...    29841.0    20075.0    12250.0    3778.0    1900.0   \n",
              "\n",
              "       PAY_AMT3  PAY_AMT4  PAY_AMT5  PAY_AMT6  default.payment.next.month  \n",
              "10747    4000.0    3000.0    1000.0    2000.0                           0  \n",
              "12573    2828.0       0.0     182.0       0.0                           1  \n",
              "29676    2200.0    1300.0   43987.0    1386.0                           0  \n",
              "8856     1600.0       0.0    1600.0    1600.0                           1  \n",
              "21098    2000.0       0.0    2000.0    2000.0                           0  \n",
              "...         ...       ...       ...       ...                         ...  \n",
              "1942      836.0     866.0     870.0     902.0                           0  \n",
              "18093    8896.0   10690.0  223765.0    9395.0                           0  \n",
              "8893     3828.0    4893.0    4687.0    3008.0                           0  \n",
              "8701        0.0       0.0    1612.0       0.0                           1  \n",
              "16450    1019.0      26.0    1131.0    1209.0                           0  \n",
              "\n",
              "[15000 rows x 25 columns]"
            ]
          },
          "execution_count": 192,
          "metadata": {},
          "output_type": "execute_result"
        }
      ],
      "source": [
        "creditcard_df"
      ]
    },
    {
      "cell_type": "markdown",
      "metadata": {
        "id": "gLkwgyShmzM9"
      },
      "source": [
        "# PREGUNTAS:\n",
        "\n",
        "Cuál es la probabilidad de que un cliente pague dado que:\n",
        "\n",
        "\n",
        "*   Tiene más (y menos) de 40 años\n",
        "*   Es de sexo 1 (y 2)\n",
        "*   Su nivel de educación es mayor a 4\n",
        "*   Se retrasó en al menos 1 pago en el pasado\n",
        "*   El Bill Amount en al menos un mes haya sido mayor a 200,000\n",
        "\n",
        "¿De las variables anteriores cuál crees que sería más significativa para identificar a alguen que no pague?\n"
      ]
    },
    {
      "cell_type": "code",
      "execution_count": 193,
      "metadata": {},
      "outputs": [],
      "source": [
        "# Se usará el Teorema de Bayes para la resolución de las preguntas, para calcular la porbabilidad que suceda \"B\" evento condicionado a que suceda \"A\".\n",
        "# P(A|B)=P(A)*P(B|A)/P(B)"
      ]
    },
    {
      "cell_type": "markdown",
      "metadata": {
        "id": "VymlhOI8WGq-"
      },
      "source": [
        "1. Tiene más de 40 años"
      ]
    },
    {
      "cell_type": "code",
      "execution_count": 194,
      "metadata": {},
      "outputs": [
        {
          "name": "stderr",
          "output_type": "stream",
          "text": [
            "C:\\Users\\sabri\\AppData\\Local\\Temp\\ipykernel_2768\\495063513.py:2: UserWarning: Boolean Series key will be reindexed to match DataFrame index.\n",
            "  mayor_40_pagan=creditcard_df_inicio[creditcard_df_inicio['default.payment.next.month'] == 0][creditcard_df_inicio[\"AGE\"]>40].count()[\"AGE\"]/total\n",
            "C:\\Users\\sabri\\AppData\\Local\\Temp\\ipykernel_2768\\495063513.py:4: UserWarning: Boolean Series key will be reindexed to match DataFrame index.\n",
            "  mayor_40_no_pagan=creditcard_df_inicio[creditcard_df_inicio['default.payment.next.month'] == 1][creditcard_df_inicio[\"AGE\"]>40].count()[\"AGE\"]/total\n"
          ]
        }
      ],
      "source": [
        "#Porciento de personas que realizarán su pago y son mayores a 40 años\n",
        "mayor_40_pagan=creditcard_df_inicio[creditcard_df_inicio['default.payment.next.month'] == 0][creditcard_df_inicio[\"AGE\"]>40].count()[\"AGE\"]/total\n",
        "#Porciento de personas que no realizarán su pago y son mayores a 40 años\n",
        "mayor_40_no_pagan=creditcard_df_inicio[creditcard_df_inicio['default.payment.next.month'] == 1][creditcard_df_inicio[\"AGE\"]>40].count()[\"AGE\"]/total\n"
      ]
    },
    {
      "cell_type": "code",
      "execution_count": 195,
      "metadata": {},
      "outputs": [
        {
          "name": "stderr",
          "output_type": "stream",
          "text": [
            "C:\\Users\\sabri\\AppData\\Local\\Temp\\ipykernel_2768\\649486671.py:2: UserWarning: Boolean Series key will be reindexed to match DataFrame index.\n",
            "  menor_o_igual_40_pagan=creditcard_df_inicio[creditcard_df_inicio['default.payment.next.month'] == 0][creditcard_df_inicio[\"AGE\"]<=40].count()[\"AGE\"]/total\n",
            "C:\\Users\\sabri\\AppData\\Local\\Temp\\ipykernel_2768\\649486671.py:4: UserWarning: Boolean Series key will be reindexed to match DataFrame index.\n",
            "  menor_o_igual_40_no_pagan=creditcard_df_inicio[creditcard_df_inicio['default.payment.next.month'] == 1][creditcard_df_inicio[\"AGE\"]<=40].count()[\"AGE\"]/total\n"
          ]
        }
      ],
      "source": [
        "#Porciento de personas que realizarán su pago y son menores o iguales a 40 años\n",
        "menor_o_igual_40_pagan=creditcard_df_inicio[creditcard_df_inicio['default.payment.next.month'] == 0][creditcard_df_inicio[\"AGE\"]<=40].count()[\"AGE\"]/total\n",
        "#Porciento de personas que no realizarán su pago y son menores o iguales a 40 años\n",
        "menor_o_igual_40_no_pagan=creditcard_df_inicio[creditcard_df_inicio['default.payment.next.month'] == 1][creditcard_df_inicio[\"AGE\"]<=40].count()[\"AGE\"]/total"
      ]
    },
    {
      "cell_type": "code",
      "execution_count": 196,
      "metadata": {},
      "outputs": [],
      "source": [
        "#Porcentaje de personas >40 años que van a pagar del total de personas que van a liquidar.\n",
        "Probabilidad_mayor_40_pagan=mayor_40_pagan/(mayor_40_pagan+menor_o_igual_40_pagan)*100 \n",
        "#Porcentaje de personas <=40 años que van a pagar del total de personas que van a liquidar.\n",
        "Probabilidad_menor_o_igual_pagan=menor_o_igual_40_pagan/(mayor_40_pagan+menor_o_igual_40_pagan)*100 "
      ]
    },
    {
      "cell_type": "code",
      "execution_count": 197,
      "metadata": {},
      "outputs": [],
      "source": [
        "#Porcentaje de personas >40 años que van a pagar del total de personas que pidieron el crédito.\n",
        "Probabilidad_mayor_40_pagan_total=mayor_40_pagan/(mayor_40_pagan+mayor_40_no_pagan)*100 \n",
        " #Porcentaje de personas <=40 años que van a pagar del total de personas que pidieron el crédito.\n",
        "Probabilidad_menor_o_igual_pagan_total=menor_o_igual_40_pagan/(menor_o_igual_40_no_pagan+menor_o_igual_40_pagan)*100"
      ]
    },
    {
      "cell_type": "code",
      "execution_count": 198,
      "metadata": {},
      "outputs": [
        {
          "data": {
            "text/plain": [
              "'Del total de personas que completarán sus pagos el 26.96% son personas mayores a 40 años y el 73.04% tienen 40 o menos años.Del total de personas con el crédito, el porcentaje de personas mayores de 40 que harán el pago son 76.12 %, de forma similar de las personas menores o igual a 40 años es de 78.55%.'"
            ]
          },
          "execution_count": 198,
          "metadata": {},
          "output_type": "execute_result"
        }
      ],
      "source": [
        "f\"\"\"Del total de personas que completarán sus pagos el {Probabilidad_mayor_40_pagan.round(2)}% son personas mayores a 40 años y el {Probabilidad_menor_o_igual_pagan.round(2)}% tienen 40 o menos años.Del total de personas con el crédito, el porcentaje de personas mayores de 40 que harán el pago son {Probabilidad_mayor_40_pagan_total.round(2)} %, de forma similar de las personas menores o igual a 40 años es de {Probabilidad_menor_o_igual_pagan_total.round (2)}%.\"\"\""
      ]
    },
    {
      "cell_type": "markdown",
      "metadata": {},
      "source": [
        "2. Es de sexo 1 (y 2)"
      ]
    },
    {
      "cell_type": "code",
      "execution_count": 199,
      "metadata": {},
      "outputs": [
        {
          "name": "stderr",
          "output_type": "stream",
          "text": [
            "C:\\Users\\sabri\\AppData\\Local\\Temp\\ipykernel_2768\\3448387960.py:2: UserWarning: Boolean Series key will be reindexed to match DataFrame index.\n",
            "  mujeres_pagan=creditcard_df_inicio[creditcard_df_inicio['default.payment.next.month'] == 0][creditcard_df_inicio[\"SEX\"]==2].count()[\"SEX\"]/total\n",
            "C:\\Users\\sabri\\AppData\\Local\\Temp\\ipykernel_2768\\3448387960.py:4: UserWarning: Boolean Series key will be reindexed to match DataFrame index.\n",
            "  mujeres_no_pagan=creditcard_df_inicio[creditcard_df_inicio['default.payment.next.month'] == 1][creditcard_df_inicio[\"SEX\"]==2].count()[\"SEX\"]/total\n"
          ]
        }
      ],
      "source": [
        "#Porciento de mujeres que tienen crédito y van a realizar su pago.\n",
        "mujeres_pagan=creditcard_df_inicio[creditcard_df_inicio['default.payment.next.month'] == 0][creditcard_df_inicio[\"SEX\"]==2].count()[\"SEX\"]/total\n",
        "#Porciento de mujeres que tienen crédito y no van a pagar.\n",
        "mujeres_no_pagan=creditcard_df_inicio[creditcard_df_inicio['default.payment.next.month'] == 1][creditcard_df_inicio[\"SEX\"]==2].count()[\"SEX\"]/total\n"
      ]
    },
    {
      "cell_type": "code",
      "execution_count": 200,
      "metadata": {},
      "outputs": [
        {
          "name": "stderr",
          "output_type": "stream",
          "text": [
            "C:\\Users\\sabri\\AppData\\Local\\Temp\\ipykernel_2768\\4031370937.py:2: UserWarning: Boolean Series key will be reindexed to match DataFrame index.\n",
            "  hombres_pagan=creditcard_df_inicio[creditcard_df_inicio['default.payment.next.month'] == 0][creditcard_df_inicio[\"SEX\"]==1].count()[\"SEX\"]/total\n",
            "C:\\Users\\sabri\\AppData\\Local\\Temp\\ipykernel_2768\\4031370937.py:4: UserWarning: Boolean Series key will be reindexed to match DataFrame index.\n",
            "  hombres_no_pagan=creditcard_df_inicio[creditcard_df_inicio['default.payment.next.month'] == 1][creditcard_df_inicio[\"SEX\"]==1].count()[\"SEX\"]/total\n"
          ]
        }
      ],
      "source": [
        "#Porciento de hombres que tienen crédito y van a realizar su pago.\n",
        "hombres_pagan=creditcard_df_inicio[creditcard_df_inicio['default.payment.next.month'] == 0][creditcard_df_inicio[\"SEX\"]==1].count()[\"SEX\"]/total\n",
        "#Porciento de mujeres que tienen crédito y no van a pagar.\n",
        "hombres_no_pagan=creditcard_df_inicio[creditcard_df_inicio['default.payment.next.month'] == 1][creditcard_df_inicio[\"SEX\"]==1].count()[\"SEX\"]/total"
      ]
    },
    {
      "cell_type": "code",
      "execution_count": 201,
      "metadata": {},
      "outputs": [
        {
          "data": {
            "text/plain": [
              "38.58500256805342"
            ]
          },
          "execution_count": 201,
          "metadata": {},
          "output_type": "execute_result"
        }
      ],
      "source": [
        "Probabilidad_hombres_pagan=hombres_pagan/(mujeres_pagan+hombres_pagan)\n",
        "Probabilidad_hombres_pagan*100     #Porcentaje de hombres que pagan del total de personas que van a pagar."
      ]
    },
    {
      "cell_type": "code",
      "execution_count": 202,
      "metadata": {},
      "outputs": [
        {
          "data": {
            "text/plain": [
              "61.414997431946595"
            ]
          },
          "execution_count": 202,
          "metadata": {},
          "output_type": "execute_result"
        }
      ],
      "source": [
        "Probabilidad_mujeres_pagan=mujeres_pagan/(mujeres_pagan+hombres_pagan)\n",
        "Probabilidad_mujeres_pagan*100    #Porcentaje de mujeres que pagan del total de personas que van a pagar."
      ]
    },
    {
      "cell_type": "code",
      "execution_count": 203,
      "metadata": {},
      "outputs": [
        {
          "data": {
            "text/plain": [
              "79.22371908127208"
            ]
          },
          "execution_count": 203,
          "metadata": {},
          "output_type": "execute_result"
        }
      ],
      "source": [
        "Probabilidad_mujeres_pagan_total_mujeres=mujeres_pagan/(mujeres_pagan+mujeres_no_pagan)\n",
        "Probabilidad_mujeres_pagan_total_mujeres*100 #Porcentaje de mujeres que pagan del total de mujeres registradas.\n"
      ]
    },
    {
      "cell_type": "code",
      "execution_count": 204,
      "metadata": {},
      "outputs": [
        {
          "data": {
            "text/plain": [
              "75.83277254374158"
            ]
          },
          "execution_count": 204,
          "metadata": {},
          "output_type": "execute_result"
        }
      ],
      "source": [
        "Probabilidad_hombres_pagan_total_hombres=hombres_pagan/(hombres_pagan+hombres_no_pagan)\n",
        "Probabilidad_hombres_pagan_total_hombres*100  #Porcentaje de hombres que pagan del total de hombres registrados."
      ]
    },
    {
      "cell_type": "code",
      "execution_count": 205,
      "metadata": {},
      "outputs": [
        {
          "data": {
            "text/plain": [
              "'Del total de mujeres que tienen el crédito el 79.22 % completará todo su pago, mientras que del total de hombres solo el 75.83% lo liquidará.'"
            ]
          },
          "execution_count": 205,
          "metadata": {},
          "output_type": "execute_result"
        }
      ],
      "source": [
        "f\"Del total de mujeres que tienen el crédito el {(Probabilidad_mujeres_pagan_total_mujeres*100).round(2)} % completará todo su pago, mientras que del total de hombres solo el {(Probabilidad_hombres_pagan_total_hombres*100).round(2)}% lo liquidará.\""
      ]
    },
    {
      "cell_type": "code",
      "execution_count": 206,
      "metadata": {},
      "outputs": [
        {
          "data": {
            "text/plain": [
              "'De las personas que liquidarán su pago el 61.41% son mujeres y el 38.59% son hombres.'"
            ]
          },
          "execution_count": 206,
          "metadata": {},
          "output_type": "execute_result"
        }
      ],
      "source": [
        "f\"De las personas que liquidarán su pago el {(Probabilidad_mujeres_pagan*100).round(2)}% son mujeres y el {(Probabilidad_hombres_pagan*100).round(2)}% son hombres.\""
      ]
    },
    {
      "cell_type": "markdown",
      "metadata": {},
      "source": [
        "3. Su nivel de educación es mayor a 4\n"
      ]
    },
    {
      "cell_type": "code",
      "execution_count": 207,
      "metadata": {},
      "outputs": [
        {
          "name": "stderr",
          "output_type": "stream",
          "text": [
            "C:\\Users\\sabri\\AppData\\Local\\Temp\\ipykernel_2768\\3392299760.py:2: UserWarning: Boolean Series key will be reindexed to match DataFrame index.\n",
            "  educacion_mayor_4_pagan=creditcard_df_inicio[creditcard_df_inicio['default.payment.next.month'] == 0][creditcard_df_inicio[\"EDUCATION\"]>4].count()[\"EDUCATION\"]/total\n",
            "C:\\Users\\sabri\\AppData\\Local\\Temp\\ipykernel_2768\\3392299760.py:4: UserWarning: Boolean Series key will be reindexed to match DataFrame index.\n",
            "  educacion_mayor_4_no_pagan=creditcard_df_inicio[creditcard_df_inicio['default.payment.next.month'] == 1][creditcard_df_inicio[\"EDUCATION\"]>4].count()[\"EDUCATION\"]/total\n"
          ]
        }
      ],
      "source": [
        "#Porciento de personas con educación mayor a 4 y van a pagar.\n",
        "educacion_mayor_4_pagan=creditcard_df_inicio[creditcard_df_inicio['default.payment.next.month'] == 0][creditcard_df_inicio[\"EDUCATION\"]>4].count()[\"EDUCATION\"]/total\n",
        "#Porciento de personas con educación mayor a 4 y no van a pagar.\n",
        "educacion_mayor_4_no_pagan=creditcard_df_inicio[creditcard_df_inicio['default.payment.next.month'] == 1][creditcard_df_inicio[\"EDUCATION\"]>4].count()[\"EDUCATION\"]/total"
      ]
    },
    {
      "cell_type": "code",
      "execution_count": 208,
      "metadata": {},
      "outputs": [
        {
          "name": "stderr",
          "output_type": "stream",
          "text": [
            "C:\\Users\\sabri\\AppData\\Local\\Temp\\ipykernel_2768\\1542159278.py:2: UserWarning: Boolean Series key will be reindexed to match DataFrame index.\n",
            "  educacion_menor_igual_4_pagan=creditcard_df_inicio[creditcard_df_inicio['default.payment.next.month'] == 0][creditcard_df_inicio[\"EDUCATION\"]<=4].count()[\"EDUCATION\"]/total\n",
            "C:\\Users\\sabri\\AppData\\Local\\Temp\\ipykernel_2768\\1542159278.py:4: UserWarning: Boolean Series key will be reindexed to match DataFrame index.\n",
            "  educacion_menor_igual_4_no_pagan=creditcard_df_inicio[creditcard_df_inicio['default.payment.next.month'] == 1][creditcard_df_inicio[\"EDUCATION\"]<=4].count()[\"EDUCATION\"]/total\n"
          ]
        }
      ],
      "source": [
        "#Porciento de personas con educación menor o igual a  4 y van a pagar.\n",
        "educacion_menor_igual_4_pagan=creditcard_df_inicio[creditcard_df_inicio['default.payment.next.month'] == 0][creditcard_df_inicio[\"EDUCATION\"]<=4].count()[\"EDUCATION\"]/total\n",
        "#Porciento de personas con educación menor o igual a 4 y no van a pagar.\n",
        "educacion_menor_igual_4_no_pagan=creditcard_df_inicio[creditcard_df_inicio['default.payment.next.month'] == 1][creditcard_df_inicio[\"EDUCATION\"]<=4].count()[\"EDUCATION\"]/total"
      ]
    },
    {
      "cell_type": "code",
      "execution_count": 209,
      "metadata": {},
      "outputs": [],
      "source": [
        " #Porcentaje de personas de educación>4 que van a liquidar del total liquidadas.\n",
        "Probabilidad_educacion_mayor_4_pagan=educacion_mayor_4_pagan/(educacion_mayor_4_pagan+educacion_menor_igual_4_pagan)*100 \n",
        "#Porcentaje de personas con educación <=4 que van a liquidar del total liquidados.\n",
        "Probabilidad_educacion_menor_o_igual_4_pagan=educacion_menor_igual_4_pagan/(educacion_mayor_4_pagan+educacion_menor_igual_4_pagan)*100 "
      ]
    },
    {
      "cell_type": "code",
      "execution_count": 210,
      "metadata": {},
      "outputs": [],
      "source": [
        "#Porcentaje de personas de educación>4 que van a liquidar del total registradas.\n",
        "Probabilidad_educacion_mayor_4_pagan_total=educacion_mayor_4_pagan/(educacion_mayor_4_pagan+educacion_mayor_4_no_pagan)*100 \n",
        "#Porcentaje de personas con educación <=4 que van a liquidar del total registradas.\n",
        "Probabilidad_educacion_menor_o_igual_4_pagan_total=educacion_menor_igual_4_pagan/(educacion_menor_igual_4_no_pagan+educacion_menor_igual_4_pagan)*100 "
      ]
    },
    {
      "cell_type": "code",
      "execution_count": 211,
      "metadata": {},
      "outputs": [
        {
          "data": {
            "text/plain": [
              "'Del total de personas que completarán sus pagos el 1.31% son personas con educación superior a 4 y el 98.69% tienen educación de 4 o menos.Del total de personas con el crédito, el porcentaje de personas con educación mayor a 4 que harán el pago son 92.15 %, de forma similar de las personas de educación menor o igual a 4 es de 77.72%.'"
            ]
          },
          "execution_count": 211,
          "metadata": {},
          "output_type": "execute_result"
        }
      ],
      "source": [
        "f\"\"\"Del total de personas que completarán sus pagos el {Probabilidad_educacion_mayor_4_pagan.round(2)}% son personas con educación superior a 4 y el {Probabilidad_educacion_menor_o_igual_4_pagan.round(2)}% tienen educación de 4 o menos.Del total de personas con el crédito, el porcentaje de personas con educación mayor a 4 que harán el pago son {Probabilidad_educacion_mayor_4_pagan_total.round(2)} %, de forma similar de las personas de educación menor o igual a 4 es de {Probabilidad_educacion_menor_o_igual_4_pagan_total.round (2)}%.\"\"\""
      ]
    },
    {
      "cell_type": "markdown",
      "metadata": {},
      "source": [
        "4. Se retrasó en al menos 1 pago en el pasado"
      ]
    },
    {
      "cell_type": "code",
      "execution_count": 212,
      "metadata": {},
      "outputs": [
        {
          "name": "stderr",
          "output_type": "stream",
          "text": [
            "C:\\Users\\sabri\\AppData\\Local\\Temp\\ipykernel_2768\\1410275398.py:4: UserWarning: Boolean Series key will be reindexed to match DataFrame index.\n",
            "  pay_3_atraso_pagan=creditcard_df_inicio[creditcard_df_inicio['default.payment.next.month'] == 0][creditcard_df_inicio[\"PAY_3\"]>=1].count()[\"PAY_3\"]/total\n",
            "C:\\Users\\sabri\\AppData\\Local\\Temp\\ipykernel_2768\\1410275398.py:6: UserWarning: Boolean Series key will be reindexed to match DataFrame index.\n",
            "  pay_3_atraso_no_pagan=creditcard_df_inicio[creditcard_df_inicio['default.payment.next.month'] == 1][creditcard_df_inicio[\"PAY_3\"]>=1].count()[\"PAY_3\"]/total\n"
          ]
        }
      ],
      "source": [
        "#Por conveniencia se eligió un solo mes de pago para realizar el siguiente analisis, se tomo el Pay3\n",
        "\n",
        "#Porciento de personas que se atraso en el PAY_3 y van a pagar.  [PAY_3]>=1\n",
        "pay_3_atraso_pagan=creditcard_df_inicio[creditcard_df_inicio['default.payment.next.month'] == 0][creditcard_df_inicio[\"PAY_3\"]>=1].count()[\"PAY_3\"]/total\n",
        "#Porciento de personas que se atraso en el PAY_3 y no van a pagar.\n",
        "pay_3_atraso_no_pagan=creditcard_df_inicio[creditcard_df_inicio['default.payment.next.month'] == 1][creditcard_df_inicio[\"PAY_3\"]>=1].count()[\"PAY_3\"]/total"
      ]
    },
    {
      "cell_type": "code",
      "execution_count": 213,
      "metadata": {},
      "outputs": [],
      "source": [
        "#Porcentaje de las personas que completarán su pago a pesar de hacerse atrasado en el Pay_3\n",
        "probabilidad_pay_3_atraso_pagan=pay_3_atraso_pagan/(pay_3_atraso_pagan+pay_3_atraso_no_pagan)*100 \n",
        "#Porcentaje de personas que no completarán su pago y que tienen un atraso en el Pay_3\n",
        "Probabilidad_pay_3_atraso_no_pagan=pay_3_atraso_no_pagan/(pay_3_atraso_no_pagan+pay_3_atraso_pagan)*100 "
      ]
    },
    {
      "cell_type": "code",
      "execution_count": 214,
      "metadata": {},
      "outputs": [
        {
          "data": {
            "text/plain": [
              "'La probabilidad de que una persona tenga un atraso en el PAY_3 y aún así complete su credito es de 47.73%, mientras que la probabilidad de atrasarse y no completar el pago es de 52.27%.'"
            ]
          },
          "execution_count": 214,
          "metadata": {},
          "output_type": "execute_result"
        }
      ],
      "source": [
        "f\"La probabilidad de que una persona tenga un atraso en el PAY_3 y aún así complete su credito es de {probabilidad_pay_3_atraso_pagan.round(2)}%, mientras que la probabilidad de atrasarse y no completar el pago es de {Probabilidad_pay_3_atraso_no_pagan.round(2)}%.\""
      ]
    },
    {
      "cell_type": "markdown",
      "metadata": {},
      "source": [
        "5. El Bill Amount en al menos un mes haya sido mayor a 200,000"
      ]
    },
    {
      "cell_type": "code",
      "execution_count": 215,
      "metadata": {},
      "outputs": [
        {
          "name": "stderr",
          "output_type": "stream",
          "text": [
            "C:\\Users\\sabri\\AppData\\Local\\Temp\\ipykernel_2768\\2181873048.py:4: UserWarning: Boolean Series key will be reindexed to match DataFrame index.\n",
            "  bill_AMT3_pagan=creditcard_df_inicio[creditcard_df_inicio['default.payment.next.month'] == 0][creditcard_df_inicio[\"BILL_AMT3\"]>200000].count()[\"BILL_AMT3\"]/total\n",
            "C:\\Users\\sabri\\AppData\\Local\\Temp\\ipykernel_2768\\2181873048.py:6: UserWarning: Boolean Series key will be reindexed to match DataFrame index.\n",
            "  bill_AMT3_no_pagan=creditcard_df_inicio[creditcard_df_inicio['default.payment.next.month'] == 1][creditcard_df_inicio[\"BILL_AMT3\"]>200000].count()[\"BILL_AMT3\"]/total\n"
          ]
        }
      ],
      "source": [
        "#Por conveniencia se eligió un solo mes de pago para realizar el siguiente analisis, se tomo el BILL_AMT3\n",
        "\n",
        "#Porciento de personas que tiene un deuda mayor a 200,000 Dollars en el pay3 y van a pagar.\n",
        "bill_AMT3_pagan=creditcard_df_inicio[creditcard_df_inicio['default.payment.next.month'] == 0][creditcard_df_inicio[\"BILL_AMT3\"]>200000].count()[\"BILL_AMT3\"]/total\n",
        "#Porciento de personas que tiene un deuda mayor a 200,000 Dollars en el pay3 y no van a pagar.\n",
        "bill_AMT3_no_pagan=creditcard_df_inicio[creditcard_df_inicio['default.payment.next.month'] == 1][creditcard_df_inicio[\"BILL_AMT3\"]>200000].count()[\"BILL_AMT3\"]/total"
      ]
    },
    {
      "cell_type": "code",
      "execution_count": 216,
      "metadata": {},
      "outputs": [],
      "source": [
        "#Porcentaje de las personas que completarán su pago teniendo una deuda de 200,000 en el tercer periodo\n",
        "Probabilidad_bill_AMT3_pagan=bill_AMT3_pagan/(bill_AMT3_pagan+bill_AMT3_no_pagan)*100\n",
        "#Porcentaje de personas que no completarán su pago teniendo una deuda de 200,000 en el tercer periodo\n",
        "Probabilidad_bill_AMT3_no_pagan=bill_AMT3_no_pagan/(bill_AMT3_no_pagan+bill_AMT3_pagan)*100 "
      ]
    },
    {
      "cell_type": "code",
      "execution_count": 217,
      "metadata": {},
      "outputs": [
        {
          "data": {
            "text/plain": [
              "'La probabilidad de que una persona tenga una deuda de $200,000 en el AMT3 y aún así complete su credito es de 78.9%, mientras que la probabilidad de tener esa deuda y no completar el pago es de 21.1%.'"
            ]
          },
          "execution_count": 217,
          "metadata": {},
          "output_type": "execute_result"
        }
      ],
      "source": [
        "f\"La probabilidad de que una persona tenga una deuda de $200,000 en el AMT3 y aún así complete su credito es de {Probabilidad_bill_AMT3_pagan.round(2)}%, mientras que la probabilidad de tener esa deuda y no completar el pago es de {Probabilidad_bill_AMT3_no_pagan.round(2)}%.\""
      ]
    },
    {
      "cell_type": "markdown",
      "metadata": {},
      "source": [
        "¿De las variables anteriores cuál crees que sería más significativa para identificar a alguen que no pague?\n",
        "    Que alguien se atrase en sus pagos"
      ]
    }
  ],
  "metadata": {
    "colab": {
      "collapsed_sections": [],
      "name": "Copia de Ejercicio_1_PROBABILIDAD_.ipynb",
      "provenance": []
    },
    "kernelspec": {
      "display_name": "Python 3.10.4 64-bit",
      "language": "python",
      "name": "python3"
    },
    "language_info": {
      "codemirror_mode": {
        "name": "ipython",
        "version": 3
      },
      "file_extension": ".py",
      "mimetype": "text/x-python",
      "name": "python",
      "nbconvert_exporter": "python",
      "pygments_lexer": "ipython3",
      "version": "3.10.4"
    },
    "vscode": {
      "interpreter": {
        "hash": "6483d42e64b705807ee7ab627fc5c3df04fe935c6b01693ce46ae2d688d3de35"
      }
    }
  },
  "nbformat": 4,
  "nbformat_minor": 0
}
