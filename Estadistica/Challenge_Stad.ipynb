{
  "cells": [
    {
      "cell_type": "markdown",
      "metadata": {
        "id": "j9IYoI-stvwy"
      },
      "source": [
        "De acuerdo al cuestionario del lunes, ustedes respondieron \"Respuestas\", usando Respuestas y Random_nums responde la siguientes preguntas"
      ]
    },
    {
      "cell_type": "code",
      "execution_count": 358,
      "metadata": {
        "id": "0XYwXRxLW2d4"
      },
      "outputs": [],
      "source": [
        "import random\n",
        "import numpy as np\n",
        "import pandas as pd\n",
        "import scipy.stats.distributions as dist\n",
        "import seaborn as sns\n",
        "import scipy.stats as stats\n",
        "from collections import Counter\n",
        "import matplotlib.pyplot as plt"
      ]
    },
    {
      "cell_type": "code",
      "execution_count": 359,
      "metadata": {
        "colab": {
          "base_uri": "https://localhost:8080/"
        },
        "id": "u2DApfBFtT0p",
        "outputId": "c2978cc6-eeb2-425d-acda-c4826ac3479e"
      },
      "outputs": [],
      "source": [
        "Respuestas = [\"6\",\"pi\",\"Lentes\",\"5\",\"8\",\"11\",\n",
        "              \"10000000\",\"3.1416\",\"1\",\"8\",\"53\",\n",
        "              \"58\",\"5\",\"raízde2\",\"8\",\"99\",\"$\",\n",
        "              \"Pi\",\"6\",\"9\",\"10\",\"7\",\".-.\",\"11\",\n",
        "              \"70\",\"13\",\"10\",\"28\",\"159\",\"37\"]\n",
        "np.random.seed(42)\n"
      ]
    },
    {
      "cell_type": "markdown",
      "metadata": {},
      "source": [
        "#### Limpieza de datos y creación de un DataFrame"
      ]
    },
    {
      "cell_type": "code",
      "execution_count": 360,
      "metadata": {
        "colab": {
          "base_uri": "https://localhost:8080/",
          "height": 345
        },
        "id": "SGuXCxOVhARz",
        "outputId": "a8b533b8-3dd6-47e9-c4d0-098ef346bed4"
      },
      "outputs": [
        {
          "data": {
            "text/html": [
              "<div>\n",
              "<style scoped>\n",
              "    .dataframe tbody tr th:only-of-type {\n",
              "        vertical-align: middle;\n",
              "    }\n",
              "\n",
              "    .dataframe tbody tr th {\n",
              "        vertical-align: top;\n",
              "    }\n",
              "\n",
              "    .dataframe thead th {\n",
              "        text-align: right;\n",
              "    }\n",
              "</style>\n",
              "<table border=\"1\" class=\"dataframe\">\n",
              "  <thead>\n",
              "    <tr style=\"text-align: right;\">\n",
              "      <th></th>\n",
              "      <th>0</th>\n",
              "    </tr>\n",
              "  </thead>\n",
              "  <tbody>\n",
              "    <tr>\n",
              "      <th>0</th>\n",
              "      <td>6.000000e+00</td>\n",
              "    </tr>\n",
              "    <tr>\n",
              "      <th>1</th>\n",
              "      <td>3.141600e+00</td>\n",
              "    </tr>\n",
              "    <tr>\n",
              "      <th>2</th>\n",
              "      <td>NaN</td>\n",
              "    </tr>\n",
              "    <tr>\n",
              "      <th>3</th>\n",
              "      <td>5.000000e+00</td>\n",
              "    </tr>\n",
              "    <tr>\n",
              "      <th>4</th>\n",
              "      <td>8.000000e+00</td>\n",
              "    </tr>\n",
              "    <tr>\n",
              "      <th>5</th>\n",
              "      <td>1.100000e+01</td>\n",
              "    </tr>\n",
              "    <tr>\n",
              "      <th>6</th>\n",
              "      <td>1.000000e+07</td>\n",
              "    </tr>\n",
              "    <tr>\n",
              "      <th>7</th>\n",
              "      <td>3.141600e+00</td>\n",
              "    </tr>\n",
              "    <tr>\n",
              "      <th>8</th>\n",
              "      <td>1.000000e+00</td>\n",
              "    </tr>\n",
              "    <tr>\n",
              "      <th>9</th>\n",
              "      <td>8.000000e+00</td>\n",
              "    </tr>\n",
              "    <tr>\n",
              "      <th>10</th>\n",
              "      <td>5.300000e+01</td>\n",
              "    </tr>\n",
              "    <tr>\n",
              "      <th>11</th>\n",
              "      <td>5.800000e+01</td>\n",
              "    </tr>\n",
              "    <tr>\n",
              "      <th>12</th>\n",
              "      <td>5.000000e+00</td>\n",
              "    </tr>\n",
              "    <tr>\n",
              "      <th>13</th>\n",
              "      <td>1.414214e+00</td>\n",
              "    </tr>\n",
              "    <tr>\n",
              "      <th>14</th>\n",
              "      <td>8.000000e+00</td>\n",
              "    </tr>\n",
              "    <tr>\n",
              "      <th>15</th>\n",
              "      <td>9.900000e+01</td>\n",
              "    </tr>\n",
              "    <tr>\n",
              "      <th>16</th>\n",
              "      <td>NaN</td>\n",
              "    </tr>\n",
              "    <tr>\n",
              "      <th>17</th>\n",
              "      <td>3.141600e+00</td>\n",
              "    </tr>\n",
              "    <tr>\n",
              "      <th>18</th>\n",
              "      <td>6.000000e+00</td>\n",
              "    </tr>\n",
              "    <tr>\n",
              "      <th>19</th>\n",
              "      <td>9.000000e+00</td>\n",
              "    </tr>\n",
              "    <tr>\n",
              "      <th>20</th>\n",
              "      <td>1.000000e+01</td>\n",
              "    </tr>\n",
              "    <tr>\n",
              "      <th>21</th>\n",
              "      <td>7.000000e+00</td>\n",
              "    </tr>\n",
              "    <tr>\n",
              "      <th>22</th>\n",
              "      <td>NaN</td>\n",
              "    </tr>\n",
              "    <tr>\n",
              "      <th>23</th>\n",
              "      <td>1.100000e+01</td>\n",
              "    </tr>\n",
              "    <tr>\n",
              "      <th>24</th>\n",
              "      <td>7.000000e+01</td>\n",
              "    </tr>\n",
              "    <tr>\n",
              "      <th>25</th>\n",
              "      <td>1.300000e+01</td>\n",
              "    </tr>\n",
              "    <tr>\n",
              "      <th>26</th>\n",
              "      <td>1.000000e+01</td>\n",
              "    </tr>\n",
              "    <tr>\n",
              "      <th>27</th>\n",
              "      <td>2.800000e+01</td>\n",
              "    </tr>\n",
              "    <tr>\n",
              "      <th>28</th>\n",
              "      <td>1.590000e+02</td>\n",
              "    </tr>\n",
              "    <tr>\n",
              "      <th>29</th>\n",
              "      <td>3.700000e+01</td>\n",
              "    </tr>\n",
              "  </tbody>\n",
              "</table>\n",
              "</div>"
            ],
            "text/plain": [
              "               0\n",
              "0   6.000000e+00\n",
              "1   3.141600e+00\n",
              "2            NaN\n",
              "3   5.000000e+00\n",
              "4   8.000000e+00\n",
              "5   1.100000e+01\n",
              "6   1.000000e+07\n",
              "7   3.141600e+00\n",
              "8   1.000000e+00\n",
              "9   8.000000e+00\n",
              "10  5.300000e+01\n",
              "11  5.800000e+01\n",
              "12  5.000000e+00\n",
              "13  1.414214e+00\n",
              "14  8.000000e+00\n",
              "15  9.900000e+01\n",
              "16           NaN\n",
              "17  3.141600e+00\n",
              "18  6.000000e+00\n",
              "19  9.000000e+00\n",
              "20  1.000000e+01\n",
              "21  7.000000e+00\n",
              "22           NaN\n",
              "23  1.100000e+01\n",
              "24  7.000000e+01\n",
              "25  1.300000e+01\n",
              "26  1.000000e+01\n",
              "27  2.800000e+01\n",
              "28  1.590000e+02\n",
              "29  3.700000e+01"
            ]
          },
          "execution_count": 360,
          "metadata": {},
          "output_type": "execute_result"
        }
      ],
      "source": [
        "df_f=pd.DataFrame(Respuestas)\n",
        "df_f[0] = df_f[0].replace([\"pi\",\"Pi\"],3.1416)\n",
        "df_f[0] = df_f[0].replace(\"raízde2\",2**0.5)\n",
        "df_f[0] = df_f[0].replace([\"Lentes\",\"$\",\".-.\"],np.nan) \n",
        "df_f=df_f.astype(float)\n",
        "df_f"
      ]
    },
    {
      "cell_type": "code",
      "execution_count": 361,
      "metadata": {},
      "outputs": [
        {
          "data": {
            "text/html": [
              "<div>\n",
              "<style scoped>\n",
              "    .dataframe tbody tr th:only-of-type {\n",
              "        vertical-align: middle;\n",
              "    }\n",
              "\n",
              "    .dataframe tbody tr th {\n",
              "        vertical-align: top;\n",
              "    }\n",
              "\n",
              "    .dataframe thead th {\n",
              "        text-align: right;\n",
              "    }\n",
              "</style>\n",
              "<table border=\"1\" class=\"dataframe\">\n",
              "  <thead>\n",
              "    <tr style=\"text-align: right;\">\n",
              "      <th></th>\n",
              "      <th>0</th>\n",
              "      <th>random</th>\n",
              "    </tr>\n",
              "  </thead>\n",
              "  <tbody>\n",
              "    <tr>\n",
              "      <th>0</th>\n",
              "      <td>6.000000e+00</td>\n",
              "      <td>6423388</td>\n",
              "    </tr>\n",
              "    <tr>\n",
              "      <th>1</th>\n",
              "      <td>3.141600e+00</td>\n",
              "      <td>6550634</td>\n",
              "    </tr>\n",
              "    <tr>\n",
              "      <th>2</th>\n",
              "      <td>NaN</td>\n",
              "      <td>4304572</td>\n",
              "    </tr>\n",
              "    <tr>\n",
              "      <th>3</th>\n",
              "      <td>5.000000e+00</td>\n",
              "      <td>2234489</td>\n",
              "    </tr>\n",
              "    <tr>\n",
              "      <th>4</th>\n",
              "      <td>8.000000e+00</td>\n",
              "      <td>9958614</td>\n",
              "    </tr>\n",
              "    <tr>\n",
              "      <th>5</th>\n",
              "      <td>1.100000e+01</td>\n",
              "      <td>9524682</td>\n",
              "    </tr>\n",
              "    <tr>\n",
              "      <th>6</th>\n",
              "      <td>1.000000e+07</td>\n",
              "      <td>7204212</td>\n",
              "    </tr>\n",
              "    <tr>\n",
              "      <th>7</th>\n",
              "      <td>3.141600e+00</td>\n",
              "      <td>9628519</td>\n",
              "    </tr>\n",
              "    <tr>\n",
              "      <th>8</th>\n",
              "      <td>1.000000e+00</td>\n",
              "      <td>4472471</td>\n",
              "    </tr>\n",
              "    <tr>\n",
              "      <th>9</th>\n",
              "      <td>8.000000e+00</td>\n",
              "      <td>4523669</td>\n",
              "    </tr>\n",
              "    <tr>\n",
              "      <th>10</th>\n",
              "      <td>5.300000e+01</td>\n",
              "      <td>7404852</td>\n",
              "    </tr>\n",
              "    <tr>\n",
              "      <th>11</th>\n",
              "      <td>5.800000e+01</td>\n",
              "      <td>4981505</td>\n",
              "    </tr>\n",
              "    <tr>\n",
              "      <th>12</th>\n",
              "      <td>5.000000e+00</td>\n",
              "      <td>1766891</td>\n",
              "    </tr>\n",
              "    <tr>\n",
              "      <th>13</th>\n",
              "      <td>1.414214e+00</td>\n",
              "      <td>4521373</td>\n",
              "    </tr>\n",
              "    <tr>\n",
              "      <th>14</th>\n",
              "      <td>8.000000e+00</td>\n",
              "      <td>6019877</td>\n",
              "    </tr>\n",
              "    <tr>\n",
              "      <th>15</th>\n",
              "      <td>9.900000e+01</td>\n",
              "      <td>3344769</td>\n",
              "    </tr>\n",
              "    <tr>\n",
              "      <th>16</th>\n",
              "      <td>NaN</td>\n",
              "      <td>9180351</td>\n",
              "    </tr>\n",
              "    <tr>\n",
              "      <th>17</th>\n",
              "      <td>3.141600e+00</td>\n",
              "      <td>103355</td>\n",
              "    </tr>\n",
              "    <tr>\n",
              "      <th>18</th>\n",
              "      <td>6.000000e+00</td>\n",
              "      <td>1262752</td>\n",
              "    </tr>\n",
              "    <tr>\n",
              "      <th>19</th>\n",
              "      <td>9.000000e+00</td>\n",
              "      <td>9784633</td>\n",
              "    </tr>\n",
              "    <tr>\n",
              "      <th>20</th>\n",
              "      <td>1.000000e+01</td>\n",
              "      <td>5664789</td>\n",
              "    </tr>\n",
              "    <tr>\n",
              "      <th>21</th>\n",
              "      <td>7.000000e+00</td>\n",
              "      <td>9695979</td>\n",
              "    </tr>\n",
              "    <tr>\n",
              "      <th>22</th>\n",
              "      <td>NaN</td>\n",
              "      <td>9305648</td>\n",
              "    </tr>\n",
              "    <tr>\n",
              "      <th>23</th>\n",
              "      <td>1.100000e+01</td>\n",
              "      <td>5743066</td>\n",
              "    </tr>\n",
              "    <tr>\n",
              "      <th>24</th>\n",
              "      <td>7.000000e+01</td>\n",
              "      <td>6113790</td>\n",
              "    </tr>\n",
              "    <tr>\n",
              "      <th>25</th>\n",
              "      <td>1.300000e+01</td>\n",
              "      <td>4721339</td>\n",
              "    </tr>\n",
              "    <tr>\n",
              "      <th>26</th>\n",
              "      <td>1.000000e+01</td>\n",
              "      <td>9889550</td>\n",
              "    </tr>\n",
              "    <tr>\n",
              "      <th>27</th>\n",
              "      <td>2.800000e+01</td>\n",
              "      <td>3275709</td>\n",
              "    </tr>\n",
              "    <tr>\n",
              "      <th>28</th>\n",
              "      <td>1.590000e+02</td>\n",
              "      <td>84654</td>\n",
              "    </tr>\n",
              "    <tr>\n",
              "      <th>29</th>\n",
              "      <td>3.700000e+01</td>\n",
              "      <td>5147581</td>\n",
              "    </tr>\n",
              "  </tbody>\n",
              "</table>\n",
              "</div>"
            ],
            "text/plain": [
              "               0   random\n",
              "0   6.000000e+00  6423388\n",
              "1   3.141600e+00  6550634\n",
              "2            NaN  4304572\n",
              "3   5.000000e+00  2234489\n",
              "4   8.000000e+00  9958614\n",
              "5   1.100000e+01  9524682\n",
              "6   1.000000e+07  7204212\n",
              "7   3.141600e+00  9628519\n",
              "8   1.000000e+00  4472471\n",
              "9   8.000000e+00  4523669\n",
              "10  5.300000e+01  7404852\n",
              "11  5.800000e+01  4981505\n",
              "12  5.000000e+00  1766891\n",
              "13  1.414214e+00  4521373\n",
              "14  8.000000e+00  6019877\n",
              "15  9.900000e+01  3344769\n",
              "16           NaN  9180351\n",
              "17  3.141600e+00   103355\n",
              "18  6.000000e+00  1262752\n",
              "19  9.000000e+00  9784633\n",
              "20  1.000000e+01  5664789\n",
              "21  7.000000e+00  9695979\n",
              "22           NaN  9305648\n",
              "23  1.100000e+01  5743066\n",
              "24  7.000000e+01  6113790\n",
              "25  1.300000e+01  4721339\n",
              "26  1.000000e+01  9889550\n",
              "27  2.800000e+01  3275709\n",
              "28  1.590000e+02    84654\n",
              "29  3.700000e+01  5147581"
            ]
          },
          "execution_count": 361,
          "metadata": {},
          "output_type": "execute_result"
        }
      ],
      "source": [
        "#Creación de Columna de valores random\n",
        "Random_nums = list(np.random.randint(0,10000000,len(df_f)))\n",
        "random=pd.DataFrame(Random_nums)\n",
        "df_f[\"random\"]=random[0]\n",
        "df_f"
      ]
    },
    {
      "cell_type": "code",
      "execution_count": 362,
      "metadata": {},
      "outputs": [
        {
          "data": {
            "text/html": [
              "<div>\n",
              "<style scoped>\n",
              "    .dataframe tbody tr th:only-of-type {\n",
              "        vertical-align: middle;\n",
              "    }\n",
              "\n",
              "    .dataframe tbody tr th {\n",
              "        vertical-align: top;\n",
              "    }\n",
              "\n",
              "    .dataframe thead th {\n",
              "        text-align: right;\n",
              "    }\n",
              "</style>\n",
              "<table border=\"1\" class=\"dataframe\">\n",
              "  <thead>\n",
              "    <tr style=\"text-align: right;\">\n",
              "      <th></th>\n",
              "      <th>0</th>\n",
              "      <th>random</th>\n",
              "    </tr>\n",
              "  </thead>\n",
              "  <tbody>\n",
              "    <tr>\n",
              "      <th>0</th>\n",
              "      <td>6.000000e+00</td>\n",
              "      <td>6423388</td>\n",
              "    </tr>\n",
              "    <tr>\n",
              "      <th>1</th>\n",
              "      <td>3.141600e+00</td>\n",
              "      <td>6550634</td>\n",
              "    </tr>\n",
              "    <tr>\n",
              "      <th>3</th>\n",
              "      <td>5.000000e+00</td>\n",
              "      <td>2234489</td>\n",
              "    </tr>\n",
              "    <tr>\n",
              "      <th>4</th>\n",
              "      <td>8.000000e+00</td>\n",
              "      <td>9958614</td>\n",
              "    </tr>\n",
              "    <tr>\n",
              "      <th>5</th>\n",
              "      <td>1.100000e+01</td>\n",
              "      <td>9524682</td>\n",
              "    </tr>\n",
              "    <tr>\n",
              "      <th>6</th>\n",
              "      <td>1.000000e+07</td>\n",
              "      <td>7204212</td>\n",
              "    </tr>\n",
              "    <tr>\n",
              "      <th>7</th>\n",
              "      <td>3.141600e+00</td>\n",
              "      <td>9628519</td>\n",
              "    </tr>\n",
              "    <tr>\n",
              "      <th>8</th>\n",
              "      <td>1.000000e+00</td>\n",
              "      <td>4472471</td>\n",
              "    </tr>\n",
              "    <tr>\n",
              "      <th>9</th>\n",
              "      <td>8.000000e+00</td>\n",
              "      <td>4523669</td>\n",
              "    </tr>\n",
              "    <tr>\n",
              "      <th>10</th>\n",
              "      <td>5.300000e+01</td>\n",
              "      <td>7404852</td>\n",
              "    </tr>\n",
              "    <tr>\n",
              "      <th>11</th>\n",
              "      <td>5.800000e+01</td>\n",
              "      <td>4981505</td>\n",
              "    </tr>\n",
              "    <tr>\n",
              "      <th>12</th>\n",
              "      <td>5.000000e+00</td>\n",
              "      <td>1766891</td>\n",
              "    </tr>\n",
              "    <tr>\n",
              "      <th>13</th>\n",
              "      <td>1.414214e+00</td>\n",
              "      <td>4521373</td>\n",
              "    </tr>\n",
              "    <tr>\n",
              "      <th>14</th>\n",
              "      <td>8.000000e+00</td>\n",
              "      <td>6019877</td>\n",
              "    </tr>\n",
              "    <tr>\n",
              "      <th>15</th>\n",
              "      <td>9.900000e+01</td>\n",
              "      <td>3344769</td>\n",
              "    </tr>\n",
              "    <tr>\n",
              "      <th>17</th>\n",
              "      <td>3.141600e+00</td>\n",
              "      <td>103355</td>\n",
              "    </tr>\n",
              "    <tr>\n",
              "      <th>18</th>\n",
              "      <td>6.000000e+00</td>\n",
              "      <td>1262752</td>\n",
              "    </tr>\n",
              "    <tr>\n",
              "      <th>19</th>\n",
              "      <td>9.000000e+00</td>\n",
              "      <td>9784633</td>\n",
              "    </tr>\n",
              "    <tr>\n",
              "      <th>20</th>\n",
              "      <td>1.000000e+01</td>\n",
              "      <td>5664789</td>\n",
              "    </tr>\n",
              "    <tr>\n",
              "      <th>21</th>\n",
              "      <td>7.000000e+00</td>\n",
              "      <td>9695979</td>\n",
              "    </tr>\n",
              "    <tr>\n",
              "      <th>23</th>\n",
              "      <td>1.100000e+01</td>\n",
              "      <td>5743066</td>\n",
              "    </tr>\n",
              "    <tr>\n",
              "      <th>24</th>\n",
              "      <td>7.000000e+01</td>\n",
              "      <td>6113790</td>\n",
              "    </tr>\n",
              "    <tr>\n",
              "      <th>25</th>\n",
              "      <td>1.300000e+01</td>\n",
              "      <td>4721339</td>\n",
              "    </tr>\n",
              "    <tr>\n",
              "      <th>26</th>\n",
              "      <td>1.000000e+01</td>\n",
              "      <td>9889550</td>\n",
              "    </tr>\n",
              "    <tr>\n",
              "      <th>27</th>\n",
              "      <td>2.800000e+01</td>\n",
              "      <td>3275709</td>\n",
              "    </tr>\n",
              "    <tr>\n",
              "      <th>28</th>\n",
              "      <td>1.590000e+02</td>\n",
              "      <td>84654</td>\n",
              "    </tr>\n",
              "    <tr>\n",
              "      <th>29</th>\n",
              "      <td>3.700000e+01</td>\n",
              "      <td>5147581</td>\n",
              "    </tr>\n",
              "  </tbody>\n",
              "</table>\n",
              "</div>"
            ],
            "text/plain": [
              "               0   random\n",
              "0   6.000000e+00  6423388\n",
              "1   3.141600e+00  6550634\n",
              "3   5.000000e+00  2234489\n",
              "4   8.000000e+00  9958614\n",
              "5   1.100000e+01  9524682\n",
              "6   1.000000e+07  7204212\n",
              "7   3.141600e+00  9628519\n",
              "8   1.000000e+00  4472471\n",
              "9   8.000000e+00  4523669\n",
              "10  5.300000e+01  7404852\n",
              "11  5.800000e+01  4981505\n",
              "12  5.000000e+00  1766891\n",
              "13  1.414214e+00  4521373\n",
              "14  8.000000e+00  6019877\n",
              "15  9.900000e+01  3344769\n",
              "17  3.141600e+00   103355\n",
              "18  6.000000e+00  1262752\n",
              "19  9.000000e+00  9784633\n",
              "20  1.000000e+01  5664789\n",
              "21  7.000000e+00  9695979\n",
              "23  1.100000e+01  5743066\n",
              "24  7.000000e+01  6113790\n",
              "25  1.300000e+01  4721339\n",
              "26  1.000000e+01  9889550\n",
              "27  2.800000e+01  3275709\n",
              "28  1.590000e+02    84654\n",
              "29  3.700000e+01  5147581"
            ]
          },
          "execution_count": 362,
          "metadata": {},
          "output_type": "execute_result"
        }
      ],
      "source": [
        "df_f=df_f[df_f[0].notna()]    #Quitamos valores Nan que afecten a los calculos\n",
        "df_f"
      ]
    },
    {
      "cell_type": "code",
      "execution_count": 363,
      "metadata": {},
      "outputs": [
        {
          "name": "stderr",
          "output_type": "stream",
          "text": [
            "C:\\Users\\sabri\\AppData\\Local\\Temp\\ipykernel_7696\\33474073.py:1: SettingWithCopyWarning: \n",
            "A value is trying to be set on a copy of a slice from a DataFrame.\n",
            "Try using .loc[row_indexer,col_indexer] = value instead\n",
            "\n",
            "See the caveats in the documentation: https://pandas.pydata.org/pandas-docs/stable/user_guide/indexing.html#returning-a-view-versus-a-copy\n",
            "  df_f[\"sum\"]=df_f.sum(axis=1)     #Creamos una columna que resulta de la suma de los valores iniciales de Respuestas y la lista de Random.\n"
          ]
        },
        {
          "data": {
            "text/html": [
              "<div>\n",
              "<style scoped>\n",
              "    .dataframe tbody tr th:only-of-type {\n",
              "        vertical-align: middle;\n",
              "    }\n",
              "\n",
              "    .dataframe tbody tr th {\n",
              "        vertical-align: top;\n",
              "    }\n",
              "\n",
              "    .dataframe thead th {\n",
              "        text-align: right;\n",
              "    }\n",
              "</style>\n",
              "<table border=\"1\" class=\"dataframe\">\n",
              "  <thead>\n",
              "    <tr style=\"text-align: right;\">\n",
              "      <th></th>\n",
              "      <th>0</th>\n",
              "      <th>random</th>\n",
              "      <th>sum</th>\n",
              "    </tr>\n",
              "  </thead>\n",
              "  <tbody>\n",
              "    <tr>\n",
              "      <th>0</th>\n",
              "      <td>6.000000e+00</td>\n",
              "      <td>6423388</td>\n",
              "      <td>6.423394e+06</td>\n",
              "    </tr>\n",
              "    <tr>\n",
              "      <th>1</th>\n",
              "      <td>3.141600e+00</td>\n",
              "      <td>6550634</td>\n",
              "      <td>6.550637e+06</td>\n",
              "    </tr>\n",
              "    <tr>\n",
              "      <th>3</th>\n",
              "      <td>5.000000e+00</td>\n",
              "      <td>2234489</td>\n",
              "      <td>2.234494e+06</td>\n",
              "    </tr>\n",
              "    <tr>\n",
              "      <th>4</th>\n",
              "      <td>8.000000e+00</td>\n",
              "      <td>9958614</td>\n",
              "      <td>9.958622e+06</td>\n",
              "    </tr>\n",
              "    <tr>\n",
              "      <th>5</th>\n",
              "      <td>1.100000e+01</td>\n",
              "      <td>9524682</td>\n",
              "      <td>9.524693e+06</td>\n",
              "    </tr>\n",
              "    <tr>\n",
              "      <th>6</th>\n",
              "      <td>1.000000e+07</td>\n",
              "      <td>7204212</td>\n",
              "      <td>1.720421e+07</td>\n",
              "    </tr>\n",
              "    <tr>\n",
              "      <th>7</th>\n",
              "      <td>3.141600e+00</td>\n",
              "      <td>9628519</td>\n",
              "      <td>9.628522e+06</td>\n",
              "    </tr>\n",
              "    <tr>\n",
              "      <th>8</th>\n",
              "      <td>1.000000e+00</td>\n",
              "      <td>4472471</td>\n",
              "      <td>4.472472e+06</td>\n",
              "    </tr>\n",
              "    <tr>\n",
              "      <th>9</th>\n",
              "      <td>8.000000e+00</td>\n",
              "      <td>4523669</td>\n",
              "      <td>4.523677e+06</td>\n",
              "    </tr>\n",
              "    <tr>\n",
              "      <th>10</th>\n",
              "      <td>5.300000e+01</td>\n",
              "      <td>7404852</td>\n",
              "      <td>7.404905e+06</td>\n",
              "    </tr>\n",
              "    <tr>\n",
              "      <th>11</th>\n",
              "      <td>5.800000e+01</td>\n",
              "      <td>4981505</td>\n",
              "      <td>4.981563e+06</td>\n",
              "    </tr>\n",
              "    <tr>\n",
              "      <th>12</th>\n",
              "      <td>5.000000e+00</td>\n",
              "      <td>1766891</td>\n",
              "      <td>1.766896e+06</td>\n",
              "    </tr>\n",
              "    <tr>\n",
              "      <th>13</th>\n",
              "      <td>1.414214e+00</td>\n",
              "      <td>4521373</td>\n",
              "      <td>4.521374e+06</td>\n",
              "    </tr>\n",
              "    <tr>\n",
              "      <th>14</th>\n",
              "      <td>8.000000e+00</td>\n",
              "      <td>6019877</td>\n",
              "      <td>6.019885e+06</td>\n",
              "    </tr>\n",
              "    <tr>\n",
              "      <th>15</th>\n",
              "      <td>9.900000e+01</td>\n",
              "      <td>3344769</td>\n",
              "      <td>3.344868e+06</td>\n",
              "    </tr>\n",
              "    <tr>\n",
              "      <th>17</th>\n",
              "      <td>3.141600e+00</td>\n",
              "      <td>103355</td>\n",
              "      <td>1.033581e+05</td>\n",
              "    </tr>\n",
              "    <tr>\n",
              "      <th>18</th>\n",
              "      <td>6.000000e+00</td>\n",
              "      <td>1262752</td>\n",
              "      <td>1.262758e+06</td>\n",
              "    </tr>\n",
              "    <tr>\n",
              "      <th>19</th>\n",
              "      <td>9.000000e+00</td>\n",
              "      <td>9784633</td>\n",
              "      <td>9.784642e+06</td>\n",
              "    </tr>\n",
              "    <tr>\n",
              "      <th>20</th>\n",
              "      <td>1.000000e+01</td>\n",
              "      <td>5664789</td>\n",
              "      <td>5.664799e+06</td>\n",
              "    </tr>\n",
              "    <tr>\n",
              "      <th>21</th>\n",
              "      <td>7.000000e+00</td>\n",
              "      <td>9695979</td>\n",
              "      <td>9.695986e+06</td>\n",
              "    </tr>\n",
              "    <tr>\n",
              "      <th>23</th>\n",
              "      <td>1.100000e+01</td>\n",
              "      <td>5743066</td>\n",
              "      <td>5.743077e+06</td>\n",
              "    </tr>\n",
              "    <tr>\n",
              "      <th>24</th>\n",
              "      <td>7.000000e+01</td>\n",
              "      <td>6113790</td>\n",
              "      <td>6.113860e+06</td>\n",
              "    </tr>\n",
              "    <tr>\n",
              "      <th>25</th>\n",
              "      <td>1.300000e+01</td>\n",
              "      <td>4721339</td>\n",
              "      <td>4.721352e+06</td>\n",
              "    </tr>\n",
              "    <tr>\n",
              "      <th>26</th>\n",
              "      <td>1.000000e+01</td>\n",
              "      <td>9889550</td>\n",
              "      <td>9.889560e+06</td>\n",
              "    </tr>\n",
              "    <tr>\n",
              "      <th>27</th>\n",
              "      <td>2.800000e+01</td>\n",
              "      <td>3275709</td>\n",
              "      <td>3.275737e+06</td>\n",
              "    </tr>\n",
              "    <tr>\n",
              "      <th>28</th>\n",
              "      <td>1.590000e+02</td>\n",
              "      <td>84654</td>\n",
              "      <td>8.481300e+04</td>\n",
              "    </tr>\n",
              "    <tr>\n",
              "      <th>29</th>\n",
              "      <td>3.700000e+01</td>\n",
              "      <td>5147581</td>\n",
              "      <td>5.147618e+06</td>\n",
              "    </tr>\n",
              "  </tbody>\n",
              "</table>\n",
              "</div>"
            ],
            "text/plain": [
              "               0   random           sum\n",
              "0   6.000000e+00  6423388  6.423394e+06\n",
              "1   3.141600e+00  6550634  6.550637e+06\n",
              "3   5.000000e+00  2234489  2.234494e+06\n",
              "4   8.000000e+00  9958614  9.958622e+06\n",
              "5   1.100000e+01  9524682  9.524693e+06\n",
              "6   1.000000e+07  7204212  1.720421e+07\n",
              "7   3.141600e+00  9628519  9.628522e+06\n",
              "8   1.000000e+00  4472471  4.472472e+06\n",
              "9   8.000000e+00  4523669  4.523677e+06\n",
              "10  5.300000e+01  7404852  7.404905e+06\n",
              "11  5.800000e+01  4981505  4.981563e+06\n",
              "12  5.000000e+00  1766891  1.766896e+06\n",
              "13  1.414214e+00  4521373  4.521374e+06\n",
              "14  8.000000e+00  6019877  6.019885e+06\n",
              "15  9.900000e+01  3344769  3.344868e+06\n",
              "17  3.141600e+00   103355  1.033581e+05\n",
              "18  6.000000e+00  1262752  1.262758e+06\n",
              "19  9.000000e+00  9784633  9.784642e+06\n",
              "20  1.000000e+01  5664789  5.664799e+06\n",
              "21  7.000000e+00  9695979  9.695986e+06\n",
              "23  1.100000e+01  5743066  5.743077e+06\n",
              "24  7.000000e+01  6113790  6.113860e+06\n",
              "25  1.300000e+01  4721339  4.721352e+06\n",
              "26  1.000000e+01  9889550  9.889560e+06\n",
              "27  2.800000e+01  3275709  3.275737e+06\n",
              "28  1.590000e+02    84654  8.481300e+04\n",
              "29  3.700000e+01  5147581  5.147618e+06"
            ]
          },
          "execution_count": 363,
          "metadata": {},
          "output_type": "execute_result"
        }
      ],
      "source": [
        "df_f[\"sum\"]=df_f.sum(axis=1)     #Creamos una columna que resulta de la suma de los valores iniciales de Respuestas y la lista de Random.\n",
        "df_f"
      ]
    },
    {
      "cell_type": "markdown",
      "metadata": {
        "id": "KMaA3slMt2WK"
      },
      "source": [
        "Hipótesis: La mediana de esos números es 10.\n",
        "\n",
        "Usando boostraping ¿qué nivel de confianza debes usar para que se acepte la hipótesis?"
      ]
    },
    {
      "cell_type": "code",
      "execution_count": 364,
      "metadata": {},
      "outputs": [
        {
          "data": {
            "text/plain": [
              "(7.968919248727886, 10.031080751272114)"
            ]
          },
          "execution_count": 364,
          "metadata": {},
          "output_type": "execute_result"
        }
      ],
      "source": [
        "#De los números introducidos en Respuestas se realizará lo siguiente:\n",
        "data=df_f[0]\n",
        "stats.t.interval(alpha=0.0000022,\n",
        "                 df=len(data)-1,\n",
        "                 loc=np.median(data),\n",
        "                 scale=stats.sem(data))\n",
        "\n"
      ]
    },
    {
      "cell_type": "code",
      "execution_count": 365,
      "metadata": {},
      "outputs": [
        {
          "data": {
            "text/plain": [
              "'El nivel de hipotesis que se debe que usar para decir que la mediana de los datos \"Resultados\" es de 10 es de 0.00022%'"
            ]
          },
          "execution_count": 365,
          "metadata": {},
          "output_type": "execute_result"
        }
      ],
      "source": [
        "f'El nivel de hipotesis que se debe que usar para decir que la mediana de los datos \"Resultados\" es de 10 es de {0.0000022*100}%'"
      ]
    },
    {
      "cell_type": "markdown",
      "metadata": {
        "id": "qkYATq1-CcfX"
      },
      "source": [
        "# Obten los siguientes estadísticos\n",
        "\n",
        "Media\n",
        "\n",
        "Mediana\n",
        "\n",
        "Desviación est.\n",
        "\n",
        "Min\n",
        "\n",
        "Max"
      ]
    },
    {
      "cell_type": "code",
      "execution_count": 366,
      "metadata": {},
      "outputs": [
        {
          "data": {
            "text/plain": [
              "'El promedio es de: 5927695.36440791'"
            ]
          },
          "execution_count": 366,
          "metadata": {},
          "output_type": "execute_result"
        }
      ],
      "source": [
        "f\"El promedio es de: {df_f['sum'].mean()}\"         "
      ]
    },
    {
      "cell_type": "code",
      "execution_count": 367,
      "metadata": {
        "id": "tb6NKkL3Cbd7"
      },
      "outputs": [
        {
          "data": {
            "text/plain": [
              "'La mediana es de: 5664799.0'"
            ]
          },
          "execution_count": 367,
          "metadata": {},
          "output_type": "execute_result"
        }
      ],
      "source": [
        "f\"La mediana es de: {df_f['sum'].median()}\"      "
      ]
    },
    {
      "cell_type": "code",
      "execution_count": 368,
      "metadata": {},
      "outputs": [
        {
          "data": {
            "text/plain": [
              "'La desvación estándar es de: 3727665.4228910245'"
            ]
          },
          "execution_count": 368,
          "metadata": {},
          "output_type": "execute_result"
        }
      ],
      "source": [
        "f\"La desvación estándar es de: {df_f['sum'].std()}\"   "
      ]
    },
    {
      "cell_type": "code",
      "execution_count": 369,
      "metadata": {},
      "outputs": [
        {
          "data": {
            "text/plain": [
              "'El valor minimo es de: 84813.0  y el valor máximo es de 17204212.0'"
            ]
          },
          "execution_count": 369,
          "metadata": {},
          "output_type": "execute_result"
        }
      ],
      "source": [
        "f\"El valor minimo es de: {df_f['sum'].min()}  y el valor máximo es de {df_f['sum'].max()}\"   "
      ]
    },
    {
      "cell_type": "markdown",
      "metadata": {
        "id": "2ZI01M-XCwbG"
      },
      "source": [
        "# Outliers\n",
        "\n",
        "### Utilizando el z-score y el rango intercuartil, ¿Cuáles son los outiers de los datos? Grafícalo con un diagrama de caja"
      ]
    },
    {
      "cell_type": "code",
      "execution_count": 370,
      "metadata": {
        "id": "baLBiasNDNfZ"
      },
      "outputs": [
        {
          "data": {
            "text/plain": [
              "(-2925523.5, 15298992.5)"
            ]
          },
          "execution_count": 370,
          "metadata": {},
          "output_type": "execute_result"
        }
      ],
      "source": [
        "IQR = np.percentile(df_f['sum'],75)-np.percentile(df_f['sum'],25)\n",
        "IQR_15 = IQR*1.5\n",
        "(np.percentile(df_f['sum'],25)-IQR_15,np.percentile(df_f['sum'],75)+IQR_15)"
      ]
    },
    {
      "cell_type": "code",
      "execution_count": 371,
      "metadata": {
        "id": "Q-uBh5fBXz7-"
      },
      "outputs": [
        {
          "data": {
            "text/plain": [
              "<AxesSubplot:xlabel='sum'>"
            ]
          },
          "execution_count": 371,
          "metadata": {},
          "output_type": "execute_result"
        },
        {
          "data": {
            "image/png": "[encoded data removed]",
            "text/plain": [
              "<Figure size 432x288 with 1 Axes>"
            ]
          },
          "metadata": {
            "needs_background": "light"
          },
          "output_type": "display_data"
        }
      ],
      "source": [
        "\n",
        "sns.boxplot( x=df_f['sum'],color=\"pink\")"
      ]
    },
    {
      "cell_type": "code",
      "execution_count": 372,
      "metadata": {},
      "outputs": [
        {
          "name": "stdout",
          "output_type": "stream",
          "text": [
            "Media :  5927695.36440791\n",
            "Desviación estándar:  3727665.4228910245\n"
          ]
        }
      ],
      "source": [
        "mean = (df_f[\"sum\"]).mean()\n",
        "std = (df_f[\"sum\"]).std()\n",
        "print('Media : ', mean)\n",
        "print('Desviación estándar: ', std)"
      ]
    },
    {
      "cell_type": "code",
      "execution_count": 373,
      "metadata": {},
      "outputs": [
        {
          "name": "stdout",
          "output_type": "stream",
          "text": [
            "Outliner: [17204212.0]\n"
          ]
        }
      ],
      "source": [
        "# z standarization es para normalizar los datos para poder definir si sobrepasan o no un umbral ( tambien se pueden usar para comparar variables X con Y)\n",
        "threshold = 2.0\n",
        "outlier = []\n",
        "for i in df_f[\"sum\"]:\n",
        "    z = (i-mean)/std\n",
        "    if z > threshold or z < - threshold:\n",
        "        outlier.append(i)\n",
        "print('Outliner:', outlier)"
      ]
    },
    {
      "cell_type": "markdown",
      "metadata": {
        "id": "71Ju6RTHDagK"
      },
      "source": [
        "#### Pregunta Extra (usnado p-value): ¿Si lanzo una moneda 6 veces y las 6 veces sale \"Águila\", es un evento \"normal\"?"
      ]
    },
    {
      "cell_type": "markdown",
      "metadata": {},
      "source": [
        "El evento igual de probable que salgan 6 Águilas es el que salgan 6 soles.  \n",
        "La probabilidad de ambos eventos es de 0.5**6."
      ]
    },
    {
      "cell_type": "code",
      "execution_count": 374,
      "metadata": {
        "colab": {
          "base_uri": "https://localhost:8080/",
          "height": 165
        },
        "id": "6z0231zDwN1V",
        "outputId": "088c1e31-2e63-4da7-ab74-fc26cf42cc61"
      },
      "outputs": [
        {
          "data": {
            "text/plain": [
              "0.03125"
            ]
          },
          "execution_count": 374,
          "metadata": {},
          "output_type": "execute_result"
        }
      ],
      "source": [
        "p_value=(0.5**6)*2\n",
        "p_value\n"
      ]
    },
    {
      "cell_type": "code",
      "execution_count": 375,
      "metadata": {},
      "outputs": [
        {
          "data": {
            "text/plain": [
              "False"
            ]
          },
          "execution_count": 375,
          "metadata": {},
          "output_type": "execute_result"
        }
      ],
      "source": [
        "p_value>0.05"
      ]
    },
    {
      "cell_type": "markdown",
      "metadata": {},
      "source": [
        "Como p_value es menor a 0.05 se dice que se la hipotesis es falsa y el evento no es \"normal\"."
      ]
    }
  ],
  "metadata": {
    "colab": {
      "collapsed_sections": [],
      "name": "Copia de Copia de Double_Challenge_(\"De la muerte\").ipynb",
      "provenance": []
    },
    "kernelspec": {
      "display_name": "Python 3.10.4 64-bit",
      "language": "python",
      "name": "python3"
    },
    "language_info": {
      "codemirror_mode": {
        "name": "ipython",
        "version": 3
      },
      "file_extension": ".py",
      "mimetype": "text/x-python",
      "name": "python",
      "nbconvert_exporter": "python",
      "pygments_lexer": "ipython3",
      "version": "3.10.4"
    },
    "vscode": {
      "interpreter": {
        "hash": "6483d42e64b705807ee7ab627fc5c3df04fe935c6b01693ce46ae2d688d3de35"
      }
    }
  },
  "nbformat": 4,
  "nbformat_minor": 0
}
